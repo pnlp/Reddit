{
 "cells": [
  {
   "cell_type": "markdown",
   "metadata": {
    "collapsed": true
   },
   "source": [
    "# Reddit Classification Predictions"
   ]
  },
  {
   "cell_type": "code",
   "execution_count": 1,
   "metadata": {
    "collapsed": true
   },
   "outputs": [],
   "source": [
    "import pandas as pd\n",
    "import numpy as np\n",
    "import matplotlib.pyplot as plt\n",
    "import seaborn as sns\n",
    "%matplotlib inline\n",
    "\n",
    "import timeit\n",
    "\n",
    "from sklearn.model_selection import train_test_split, cross_val_score, RandomizedSearchCV, GridSearchCV\n",
    "from sklearn.metrics import confusion_matrix, classification_report\n",
    "from sklearn.feature_extraction.text import TfidfVectorizer\n",
    "from sklearn.linear_model import LogisticRegression\n",
    "from sklearn.ensemble import RandomForestClassifier, AdaBoostClassifier\n",
    "from sklearn.tree import DecisionTreeClassifier\n",
    "from sklearn.decomposition import PCA\n",
    "from sklearn.neighbors import KNeighborsClassifier"
   ]
  },
  {
   "cell_type": "code",
   "execution_count": 2,
   "metadata": {
    "collapsed": true
   },
   "outputs": [],
   "source": [
    "# increase columns shown to see all columns \n",
    "\n",
    "pd.set_option(\"display.max_columns\", 1000)"
   ]
  },
  {
   "cell_type": "code",
   "execution_count": 3,
   "metadata": {
    "collapsed": true,
    "scrolled": true
   },
   "outputs": [],
   "source": [
    "reddit = pd.read_csv('./reddit_posts.csv')"
   ]
  },
  {
   "cell_type": "code",
   "execution_count": 4,
   "metadata": {},
   "outputs": [
    {
     "data": {
      "text/html": [
       "<div>\n",
       "<style>\n",
       "    .dataframe thead tr:only-child th {\n",
       "        text-align: right;\n",
       "    }\n",
       "\n",
       "    .dataframe thead th {\n",
       "        text-align: left;\n",
       "    }\n",
       "\n",
       "    .dataframe tbody tr th {\n",
       "        vertical-align: top;\n",
       "    }\n",
       "</style>\n",
       "<table border=\"1\" class=\"dataframe\">\n",
       "  <thead>\n",
       "    <tr style=\"text-align: right;\">\n",
       "      <th></th>\n",
       "      <th>adserver_click_url</th>\n",
       "      <th>adserver_imp_pixel</th>\n",
       "      <th>archived</th>\n",
       "      <th>author</th>\n",
       "      <th>author_flair_css_class</th>\n",
       "      <th>author_flair_text</th>\n",
       "      <th>contest_mode</th>\n",
       "      <th>created_utc</th>\n",
       "      <th>disable_comments</th>\n",
       "      <th>distinguished</th>\n",
       "      <th>domain</th>\n",
       "      <th>downs</th>\n",
       "      <th>edited</th>\n",
       "      <th>gilded</th>\n",
       "      <th>hide_score</th>\n",
       "      <th>href_url</th>\n",
       "      <th>id</th>\n",
       "      <th>imp_pixel</th>\n",
       "      <th>is_self</th>\n",
       "      <th>link_flair_css_class</th>\n",
       "      <th>link_flair_text</th>\n",
       "      <th>locked</th>\n",
       "      <th>media</th>\n",
       "      <th>media_embed</th>\n",
       "      <th>mobile_ad_url</th>\n",
       "      <th>name</th>\n",
       "      <th>num_comments</th>\n",
       "      <th>original_link</th>\n",
       "      <th>over_18</th>\n",
       "      <th>permalink</th>\n",
       "      <th>post_hint</th>\n",
       "      <th>preview</th>\n",
       "      <th>promoted</th>\n",
       "      <th>promoted_by</th>\n",
       "      <th>promoted_display_name</th>\n",
       "      <th>promoted_url</th>\n",
       "      <th>quarantine</th>\n",
       "      <th>retrieved_on</th>\n",
       "      <th>saved</th>\n",
       "      <th>score</th>\n",
       "      <th>secure_media</th>\n",
       "      <th>secure_media_embed</th>\n",
       "      <th>selftext</th>\n",
       "      <th>spoiler</th>\n",
       "      <th>stickied</th>\n",
       "      <th>subreddit</th>\n",
       "      <th>subreddit_id</th>\n",
       "      <th>third_party_tracking</th>\n",
       "      <th>third_party_tracking_2</th>\n",
       "      <th>thumbnail</th>\n",
       "      <th>title</th>\n",
       "      <th>ups</th>\n",
       "      <th>url</th>\n",
       "    </tr>\n",
       "  </thead>\n",
       "  <tbody>\n",
       "    <tr>\n",
       "      <th>0</th>\n",
       "      <td>NaN</td>\n",
       "      <td>NaN</td>\n",
       "      <td>False</td>\n",
       "      <td>johnnyawesome0</td>\n",
       "      <td>NaN</td>\n",
       "      <td>NaN</td>\n",
       "      <td>False</td>\n",
       "      <td>1480697304</td>\n",
       "      <td>NaN</td>\n",
       "      <td>NaN</td>\n",
       "      <td>self.techsupport</td>\n",
       "      <td>0.0</td>\n",
       "      <td>False</td>\n",
       "      <td>0.0</td>\n",
       "      <td>False</td>\n",
       "      <td>NaN</td>\n",
       "      <td>5g49s2</td>\n",
       "      <td>NaN</td>\n",
       "      <td>True</td>\n",
       "      <td>NaN</td>\n",
       "      <td>NaN</td>\n",
       "      <td>False</td>\n",
       "      <td>NaN</td>\n",
       "      <td>{}</td>\n",
       "      <td>NaN</td>\n",
       "      <td>t3_5g49s2</td>\n",
       "      <td>1.0</td>\n",
       "      <td>NaN</td>\n",
       "      <td>False</td>\n",
       "      <td>/r/techsupport/comments/5g49s2/help_with_audio...</td>\n",
       "      <td>NaN</td>\n",
       "      <td>NaN</td>\n",
       "      <td>NaN</td>\n",
       "      <td>NaN</td>\n",
       "      <td>NaN</td>\n",
       "      <td>NaN</td>\n",
       "      <td>False</td>\n",
       "      <td>1.484297e+09</td>\n",
       "      <td>False</td>\n",
       "      <td>1.0</td>\n",
       "      <td>NaN</td>\n",
       "      <td>{}</td>\n",
       "      <td>I have a Sony surround sound system for a blu-...</td>\n",
       "      <td>False</td>\n",
       "      <td>False</td>\n",
       "      <td>techsupport</td>\n",
       "      <td>t5_2qioo</td>\n",
       "      <td>NaN</td>\n",
       "      <td>NaN</td>\n",
       "      <td>self</td>\n",
       "      <td>Help with audio set-up</td>\n",
       "      <td>1.0</td>\n",
       "      <td>https://www.reddit.com/r/techsupport/comments/...</td>\n",
       "    </tr>\n",
       "    <tr>\n",
       "      <th>1</th>\n",
       "      <td>NaN</td>\n",
       "      <td>NaN</td>\n",
       "      <td>False</td>\n",
       "      <td>Silverfin113</td>\n",
       "      <td>NaN</td>\n",
       "      <td>NaN</td>\n",
       "      <td>False</td>\n",
       "      <td>1480697424</td>\n",
       "      <td>NaN</td>\n",
       "      <td>NaN</td>\n",
       "      <td>self.learnprogramming</td>\n",
       "      <td>0.0</td>\n",
       "      <td>False</td>\n",
       "      <td>0.0</td>\n",
       "      <td>False</td>\n",
       "      <td>NaN</td>\n",
       "      <td>5g4a5p</td>\n",
       "      <td>NaN</td>\n",
       "      <td>True</td>\n",
       "      <td>NaN</td>\n",
       "      <td>NaN</td>\n",
       "      <td>False</td>\n",
       "      <td>NaN</td>\n",
       "      <td>{}</td>\n",
       "      <td>NaN</td>\n",
       "      <td>t3_5g4a5p</td>\n",
       "      <td>8.0</td>\n",
       "      <td>NaN</td>\n",
       "      <td>False</td>\n",
       "      <td>/r/learnprogramming/comments/5g4a5p/optimizing...</td>\n",
       "      <td>NaN</td>\n",
       "      <td>NaN</td>\n",
       "      <td>NaN</td>\n",
       "      <td>NaN</td>\n",
       "      <td>NaN</td>\n",
       "      <td>NaN</td>\n",
       "      <td>False</td>\n",
       "      <td>1.484297e+09</td>\n",
       "      <td>False</td>\n",
       "      <td>23.0</td>\n",
       "      <td>NaN</td>\n",
       "      <td>{}</td>\n",
       "      <td>I've written what seems to be a prohibitively ...</td>\n",
       "      <td>False</td>\n",
       "      <td>False</td>\n",
       "      <td>learnprogramming</td>\n",
       "      <td>t5_2r7yd</td>\n",
       "      <td>NaN</td>\n",
       "      <td>NaN</td>\n",
       "      <td>self</td>\n",
       "      <td>Optimizing code for speed</td>\n",
       "      <td>23.0</td>\n",
       "      <td>https://www.reddit.com/r/learnprogramming/comm...</td>\n",
       "    </tr>\n",
       "    <tr>\n",
       "      <th>2</th>\n",
       "      <td>NaN</td>\n",
       "      <td>NaN</td>\n",
       "      <td>False</td>\n",
       "      <td>bookbooksbooks</td>\n",
       "      <td>NaN</td>\n",
       "      <td>NaN</td>\n",
       "      <td>False</td>\n",
       "      <td>1480697613</td>\n",
       "      <td>NaN</td>\n",
       "      <td>NaN</td>\n",
       "      <td>self.gamedev</td>\n",
       "      <td>0.0</td>\n",
       "      <td>False</td>\n",
       "      <td>0.0</td>\n",
       "      <td>False</td>\n",
       "      <td>NaN</td>\n",
       "      <td>5g4att</td>\n",
       "      <td>NaN</td>\n",
       "      <td>True</td>\n",
       "      <td>discussion cat-talk</td>\n",
       "      <td>Discussion</td>\n",
       "      <td>False</td>\n",
       "      <td>NaN</td>\n",
       "      <td>{}</td>\n",
       "      <td>NaN</td>\n",
       "      <td>t3_5g4att</td>\n",
       "      <td>5.0</td>\n",
       "      <td>NaN</td>\n",
       "      <td>False</td>\n",
       "      <td>/r/gamedev/comments/5g4att/seeking_tales_of_de...</td>\n",
       "      <td>NaN</td>\n",
       "      <td>NaN</td>\n",
       "      <td>NaN</td>\n",
       "      <td>NaN</td>\n",
       "      <td>NaN</td>\n",
       "      <td>NaN</td>\n",
       "      <td>False</td>\n",
       "      <td>1.484297e+09</td>\n",
       "      <td>False</td>\n",
       "      <td>12.0</td>\n",
       "      <td>NaN</td>\n",
       "      <td>{}</td>\n",
       "      <td>I'm writing an article called \"Video Games Tha...</td>\n",
       "      <td>False</td>\n",
       "      <td>False</td>\n",
       "      <td>gamedev</td>\n",
       "      <td>t5_2qi0a</td>\n",
       "      <td>NaN</td>\n",
       "      <td>NaN</td>\n",
       "      <td>self</td>\n",
       "      <td>Seeking Tales of Development Woe (and Triumph)...</td>\n",
       "      <td>12.0</td>\n",
       "      <td>https://www.reddit.com/r/gamedev/comments/5g4a...</td>\n",
       "    </tr>\n",
       "    <tr>\n",
       "      <th>3</th>\n",
       "      <td>NaN</td>\n",
       "      <td>NaN</td>\n",
       "      <td>False</td>\n",
       "      <td>[deleted]</td>\n",
       "      <td>NaN</td>\n",
       "      <td>NaN</td>\n",
       "      <td>False</td>\n",
       "      <td>1480697634</td>\n",
       "      <td>NaN</td>\n",
       "      <td>NaN</td>\n",
       "      <td>self.learnprogramming</td>\n",
       "      <td>0.0</td>\n",
       "      <td>1480698462</td>\n",
       "      <td>0.0</td>\n",
       "      <td>False</td>\n",
       "      <td>NaN</td>\n",
       "      <td>5g4awr</td>\n",
       "      <td>NaN</td>\n",
       "      <td>True</td>\n",
       "      <td>solved</td>\n",
       "      <td>Solved</td>\n",
       "      <td>False</td>\n",
       "      <td>NaN</td>\n",
       "      <td>{}</td>\n",
       "      <td>NaN</td>\n",
       "      <td>t3_5g4awr</td>\n",
       "      <td>9.0</td>\n",
       "      <td>NaN</td>\n",
       "      <td>False</td>\n",
       "      <td>/r/learnprogramming/comments/5g4awr/java_findi...</td>\n",
       "      <td>NaN</td>\n",
       "      <td>NaN</td>\n",
       "      <td>NaN</td>\n",
       "      <td>NaN</td>\n",
       "      <td>NaN</td>\n",
       "      <td>NaN</td>\n",
       "      <td>False</td>\n",
       "      <td>1.484297e+09</td>\n",
       "      <td>False</td>\n",
       "      <td>0.0</td>\n",
       "      <td>NaN</td>\n",
       "      <td>{}</td>\n",
       "      <td>[deleted]</td>\n",
       "      <td>False</td>\n",
       "      <td>False</td>\n",
       "      <td>learnprogramming</td>\n",
       "      <td>t5_2r7yd</td>\n",
       "      <td>NaN</td>\n",
       "      <td>NaN</td>\n",
       "      <td>default</td>\n",
       "      <td>[Java] Finding smallest value in an array</td>\n",
       "      <td>0.0</td>\n",
       "      <td>https://www.reddit.com/r/learnprogramming/comm...</td>\n",
       "    </tr>\n",
       "    <tr>\n",
       "      <th>4</th>\n",
       "      <td>NaN</td>\n",
       "      <td>NaN</td>\n",
       "      <td>False</td>\n",
       "      <td>caffeine_potent</td>\n",
       "      <td>NaN</td>\n",
       "      <td>NaN</td>\n",
       "      <td>False</td>\n",
       "      <td>1480697748</td>\n",
       "      <td>NaN</td>\n",
       "      <td>NaN</td>\n",
       "      <td>self.learnpython</td>\n",
       "      <td>0.0</td>\n",
       "      <td>1480709138</td>\n",
       "      <td>0.0</td>\n",
       "      <td>False</td>\n",
       "      <td>NaN</td>\n",
       "      <td>5g4bcr</td>\n",
       "      <td>NaN</td>\n",
       "      <td>True</td>\n",
       "      <td>NaN</td>\n",
       "      <td>NaN</td>\n",
       "      <td>False</td>\n",
       "      <td>NaN</td>\n",
       "      <td>{}</td>\n",
       "      <td>NaN</td>\n",
       "      <td>t3_5g4bcr</td>\n",
       "      <td>12.0</td>\n",
       "      <td>NaN</td>\n",
       "      <td>False</td>\n",
       "      <td>/r/learnpython/comments/5g4bcr/currying_functi...</td>\n",
       "      <td>NaN</td>\n",
       "      <td>NaN</td>\n",
       "      <td>NaN</td>\n",
       "      <td>NaN</td>\n",
       "      <td>NaN</td>\n",
       "      <td>NaN</td>\n",
       "      <td>False</td>\n",
       "      <td>1.484297e+09</td>\n",
       "      <td>False</td>\n",
       "      <td>6.0</td>\n",
       "      <td>NaN</td>\n",
       "      <td>{}</td>\n",
       "      <td>I have the following representation of argumen...</td>\n",
       "      <td>False</td>\n",
       "      <td>False</td>\n",
       "      <td>learnpython</td>\n",
       "      <td>t5_2r8ot</td>\n",
       "      <td>NaN</td>\n",
       "      <td>NaN</td>\n",
       "      <td>self</td>\n",
       "      <td>currying functions using functools</td>\n",
       "      <td>6.0</td>\n",
       "      <td>https://www.reddit.com/r/learnpython/comments/...</td>\n",
       "    </tr>\n",
       "  </tbody>\n",
       "</table>\n",
       "</div>"
      ],
      "text/plain": [
       "   adserver_click_url  adserver_imp_pixel  archived           author  \\\n",
       "0                 NaN                 NaN     False   johnnyawesome0   \n",
       "1                 NaN                 NaN     False     Silverfin113   \n",
       "2                 NaN                 NaN     False   bookbooksbooks   \n",
       "3                 NaN                 NaN     False        [deleted]   \n",
       "4                 NaN                 NaN     False  caffeine_potent   \n",
       "\n",
       "  author_flair_css_class author_flair_text  contest_mode  created_utc  \\\n",
       "0                    NaN               NaN         False   1480697304   \n",
       "1                    NaN               NaN         False   1480697424   \n",
       "2                    NaN               NaN         False   1480697613   \n",
       "3                    NaN               NaN         False   1480697634   \n",
       "4                    NaN               NaN         False   1480697748   \n",
       "\n",
       "   disable_comments distinguished                 domain  downs      edited  \\\n",
       "0               NaN           NaN       self.techsupport    0.0       False   \n",
       "1               NaN           NaN  self.learnprogramming    0.0       False   \n",
       "2               NaN           NaN           self.gamedev    0.0       False   \n",
       "3               NaN           NaN  self.learnprogramming    0.0  1480698462   \n",
       "4               NaN           NaN       self.learnpython    0.0  1480709138   \n",
       "\n",
       "   gilded  hide_score  href_url      id  imp_pixel  is_self  \\\n",
       "0     0.0       False       NaN  5g49s2        NaN     True   \n",
       "1     0.0       False       NaN  5g4a5p        NaN     True   \n",
       "2     0.0       False       NaN  5g4att        NaN     True   \n",
       "3     0.0       False       NaN  5g4awr        NaN     True   \n",
       "4     0.0       False       NaN  5g4bcr        NaN     True   \n",
       "\n",
       "  link_flair_css_class link_flair_text  locked media media_embed  \\\n",
       "0                  NaN             NaN   False   NaN          {}   \n",
       "1                  NaN             NaN   False   NaN          {}   \n",
       "2  discussion cat-talk      Discussion   False   NaN          {}   \n",
       "3               solved          Solved   False   NaN          {}   \n",
       "4                  NaN             NaN   False   NaN          {}   \n",
       "\n",
       "   mobile_ad_url       name  num_comments  original_link  over_18  \\\n",
       "0            NaN  t3_5g49s2           1.0            NaN    False   \n",
       "1            NaN  t3_5g4a5p           8.0            NaN    False   \n",
       "2            NaN  t3_5g4att           5.0            NaN    False   \n",
       "3            NaN  t3_5g4awr           9.0            NaN    False   \n",
       "4            NaN  t3_5g4bcr          12.0            NaN    False   \n",
       "\n",
       "                                           permalink post_hint preview  \\\n",
       "0  /r/techsupport/comments/5g49s2/help_with_audio...       NaN     NaN   \n",
       "1  /r/learnprogramming/comments/5g4a5p/optimizing...       NaN     NaN   \n",
       "2  /r/gamedev/comments/5g4att/seeking_tales_of_de...       NaN     NaN   \n",
       "3  /r/learnprogramming/comments/5g4awr/java_findi...       NaN     NaN   \n",
       "4  /r/learnpython/comments/5g4bcr/currying_functi...       NaN     NaN   \n",
       "\n",
       "   promoted  promoted_by  promoted_display_name  promoted_url  quarantine  \\\n",
       "0       NaN          NaN                    NaN           NaN       False   \n",
       "1       NaN          NaN                    NaN           NaN       False   \n",
       "2       NaN          NaN                    NaN           NaN       False   \n",
       "3       NaN          NaN                    NaN           NaN       False   \n",
       "4       NaN          NaN                    NaN           NaN       False   \n",
       "\n",
       "   retrieved_on  saved  score secure_media secure_media_embed  \\\n",
       "0  1.484297e+09  False    1.0          NaN                 {}   \n",
       "1  1.484297e+09  False   23.0          NaN                 {}   \n",
       "2  1.484297e+09  False   12.0          NaN                 {}   \n",
       "3  1.484297e+09  False    0.0          NaN                 {}   \n",
       "4  1.484297e+09  False    6.0          NaN                 {}   \n",
       "\n",
       "                                            selftext  spoiler  stickied  \\\n",
       "0  I have a Sony surround sound system for a blu-...    False     False   \n",
       "1  I've written what seems to be a prohibitively ...    False     False   \n",
       "2  I'm writing an article called \"Video Games Tha...    False     False   \n",
       "3                                          [deleted]    False     False   \n",
       "4  I have the following representation of argumen...    False     False   \n",
       "\n",
       "          subreddit subreddit_id  third_party_tracking  \\\n",
       "0       techsupport     t5_2qioo                   NaN   \n",
       "1  learnprogramming     t5_2r7yd                   NaN   \n",
       "2           gamedev     t5_2qi0a                   NaN   \n",
       "3  learnprogramming     t5_2r7yd                   NaN   \n",
       "4       learnpython     t5_2r8ot                   NaN   \n",
       "\n",
       "   third_party_tracking_2 thumbnail  \\\n",
       "0                     NaN      self   \n",
       "1                     NaN      self   \n",
       "2                     NaN      self   \n",
       "3                     NaN   default   \n",
       "4                     NaN      self   \n",
       "\n",
       "                                               title   ups  \\\n",
       "0                             Help with audio set-up   1.0   \n",
       "1                          Optimizing code for speed  23.0   \n",
       "2  Seeking Tales of Development Woe (and Triumph)...  12.0   \n",
       "3          [Java] Finding smallest value in an array   0.0   \n",
       "4                 currying functions using functools   6.0   \n",
       "\n",
       "                                                 url  \n",
       "0  https://www.reddit.com/r/techsupport/comments/...  \n",
       "1  https://www.reddit.com/r/learnprogramming/comm...  \n",
       "2  https://www.reddit.com/r/gamedev/comments/5g4a...  \n",
       "3  https://www.reddit.com/r/learnprogramming/comm...  \n",
       "4  https://www.reddit.com/r/learnpython/comments/...  "
      ]
     },
     "execution_count": 4,
     "metadata": {},
     "output_type": "execute_result"
    }
   ],
   "source": [
    "reddit.head()"
   ]
  },
  {
   "cell_type": "code",
   "execution_count": 5,
   "metadata": {},
   "outputs": [
    {
     "data": {
      "text/plain": [
       "(26688, 53)"
      ]
     },
     "execution_count": 5,
     "metadata": {},
     "output_type": "execute_result"
    }
   ],
   "source": [
    "reddit.shape"
   ]
  },
  {
   "cell_type": "markdown",
   "metadata": {},
   "source": [
    "## Features to include\n",
    "\n",
    "Many of the columns included in this data set have many null values or have little varition. The following section picks out the featues that can be usesful to a model "
   ]
  },
  {
   "cell_type": "code",
   "execution_count": 6,
   "metadata": {
    "scrolled": false
   },
   "outputs": [
    {
     "name": "stdout",
     "output_type": "stream",
     "text": [
      "<class 'pandas.core.frame.DataFrame'>\n",
      "RangeIndex: 26688 entries, 0 to 26687\n",
      "Data columns (total 53 columns):\n",
      "adserver_click_url        0 non-null float64\n",
      "adserver_imp_pixel        0 non-null float64\n",
      "archived                  26688 non-null bool\n",
      "author                    26688 non-null object\n",
      "author_flair_css_class    435 non-null object\n",
      "author_flair_text         351 non-null object\n",
      "contest_mode              26688 non-null bool\n",
      "created_utc               26688 non-null int64\n",
      "disable_comments          0 non-null float64\n",
      "distinguished             85 non-null object\n",
      "domain                    26688 non-null object\n",
      "downs                     26688 non-null float64\n",
      "edited                    26688 non-null object\n",
      "gilded                    26688 non-null float64\n",
      "hide_score                26688 non-null bool\n",
      "href_url                  0 non-null float64\n",
      "id                        26688 non-null object\n",
      "imp_pixel                 0 non-null float64\n",
      "is_self                   26688 non-null bool\n",
      "link_flair_css_class      4292 non-null object\n",
      "link_flair_text           4610 non-null object\n",
      "locked                    26688 non-null bool\n",
      "media                     268 non-null object\n",
      "media_embed               26688 non-null object\n",
      "mobile_ad_url             0 non-null float64\n",
      "name                      26688 non-null object\n",
      "num_comments              26688 non-null float64\n",
      "original_link             0 non-null float64\n",
      "over_18                   26688 non-null bool\n",
      "permalink                 26688 non-null object\n",
      "post_hint                 3513 non-null object\n",
      "preview                   3513 non-null object\n",
      "promoted                  0 non-null float64\n",
      "promoted_by               0 non-null float64\n",
      "promoted_display_name     0 non-null float64\n",
      "promoted_url              0 non-null float64\n",
      "quarantine                26688 non-null bool\n",
      "retrieved_on              26688 non-null float64\n",
      "saved                     26688 non-null bool\n",
      "score                     26688 non-null float64\n",
      "secure_media              268 non-null object\n",
      "secure_media_embed        26688 non-null object\n",
      "selftext                  26688 non-null object\n",
      "spoiler                   26688 non-null bool\n",
      "stickied                  26688 non-null bool\n",
      "subreddit                 26688 non-null object\n",
      "subreddit_id              26688 non-null object\n",
      "third_party_tracking      0 non-null float64\n",
      "third_party_tracking_2    0 non-null float64\n",
      "thumbnail                 26688 non-null object\n",
      "title                     26688 non-null object\n",
      "ups                       26688 non-null float64\n",
      "url                       26688 non-null object\n",
      "dtypes: bool(10), float64(19), int64(1), object(23)\n",
      "memory usage: 9.0+ MB\n"
     ]
    }
   ],
   "source": [
    "reddit.info()"
   ]
  },
  {
   "cell_type": "code",
   "execution_count": 7,
   "metadata": {
    "scrolled": true
   },
   "outputs": [
    {
     "data": {
      "text/plain": [
       "(0.0, 7.789006294964029)"
      ]
     },
     "execution_count": 7,
     "metadata": {},
     "output_type": "execute_result"
    }
   ],
   "source": [
    "# the down votes column is all equal to 0 and therefore meaningless, \n",
    "# where as the up votes column many provide information\n",
    "\n",
    "reddit.downs.mean(), reddit.ups.mean()"
   ]
  },
  {
   "cell_type": "code",
   "execution_count": 8,
   "metadata": {},
   "outputs": [
    {
     "data": {
      "text/plain": [
       "count    26688.000000\n",
       "mean         7.789006\n",
       "std        216.126418\n",
       "min          0.000000\n",
       "25%          1.000000\n",
       "50%          1.000000\n",
       "75%          2.000000\n",
       "max      26573.000000\n",
       "Name: ups, dtype: float64"
      ]
     },
     "execution_count": 8,
     "metadata": {},
     "output_type": "execute_result"
    }
   ],
   "source": [
    "reddit.ups.describe()"
   ]
  },
  {
   "cell_type": "code",
   "execution_count": 9,
   "metadata": {
    "scrolled": true
   },
   "outputs": [
    {
     "data": {
      "text/plain": [
       "(array([  2.63350000e+04,   1.60000000e+02,   6.40000000e+01,\n",
       "          1.80000000e+01,   2.50000000e+01,   1.40000000e+01,\n",
       "          1.30000000e+01,   5.00000000e+00,   7.00000000e+00,\n",
       "          3.00000000e+00]),\n",
       " array([   0. ,   49.5,   99. ,  148.5,  198. ,  247.5,  297. ,  346.5,\n",
       "         396. ,  445.5,  495. ]),\n",
       " <a list of 10 Patch objects>)"
      ]
     },
     "execution_count": 9,
     "metadata": {},
     "output_type": "execute_result"
    },
    {
     "data": {
      "image/png": "[encoded data removed]",
      "text/plain": [
       "<matplotlib.figure.Figure at 0x119e817f0>"
      ]
     },
     "metadata": {},
     "output_type": "display_data"
    }
   ],
   "source": [
    "# Most observations have up votes near 0, and only a few with very high scores \n",
    "# resulting in very skewed data \n",
    "\n",
    "plt.hist('ups', data=reddit[reddit.ups <= 500])"
   ]
  },
  {
   "cell_type": "code",
   "execution_count": 10,
   "metadata": {},
   "outputs": [
    {
     "data": {
      "text/plain": [
       "(array([  3699.,  15301.,   2784.,   1306.,    542.,    482.,    373.,\n",
       "           286.,    201.,    144.,    130.,    106.,     92.,     80.,\n",
       "            71.,     67.,     53.,     42.,     46.,     83.]),\n",
       " array([  0.,   1.,   2.,   3.,   4.,   5.,   6.,   7.,   8.,   9.,  10.,\n",
       "         11.,  12.,  13.,  14.,  15.,  16.,  17.,  18.,  19.,  20.]),\n",
       " <a list of 20 Patch objects>)"
      ]
     },
     "execution_count": 10,
     "metadata": {},
     "output_type": "execute_result"
    },
    {
     "data": {
      "image/png": "[encoded data removed]",
      "text/plain": [
       "<matplotlib.figure.Figure at 0x10c5ecfd0>"
      ]
     },
     "metadata": {},
     "output_type": "display_data"
    }
   ],
   "source": [
    "# when only looking at up votes under 20 still is very skewed. \n",
    "\n",
    "plt.hist('ups', data=reddit[reddit.ups <= 20], bins=20)"
   ]
  },
  {
   "cell_type": "code",
   "execution_count": 11,
   "metadata": {},
   "outputs": [
    {
     "data": {
      "text/plain": [
       "count    26688.0\n",
       "mean         0.0\n",
       "std          0.0\n",
       "min          0.0\n",
       "25%          0.0\n",
       "50%          0.0\n",
       "75%          0.0\n",
       "max          0.0\n",
       "Name: downs, dtype: float64"
      ]
     },
     "execution_count": 11,
     "metadata": {},
     "output_type": "execute_result"
    }
   ],
   "source": [
    "# There is no variation in this columns and won't be included in the final data set\n",
    "\n",
    "reddit.downs.describe()"
   ]
  },
  {
   "cell_type": "code",
   "execution_count": 12,
   "metadata": {},
   "outputs": [
    {
     "data": {
      "text/plain": [
       "0.0    26678\n",
       "1.0        8\n",
       "6.0        1\n",
       "2.0        1\n",
       "Name: gilded, dtype: int64"
      ]
     },
     "execution_count": 12,
     "metadata": {},
     "output_type": "execute_result"
    }
   ],
   "source": [
    "# There is too little variation and too few observations to include in the final dataset\n",
    "\n",
    "reddit.gilded.value_counts()"
   ]
  },
  {
   "cell_type": "code",
   "execution_count": 13,
   "metadata": {},
   "outputs": [
    {
     "data": {
      "text/plain": [
       "False    26688\n",
       "Name: hide_score, dtype: int64"
      ]
     },
     "execution_count": 13,
     "metadata": {},
     "output_type": "execute_result"
    }
   ],
   "source": [
    "# There is no variation and won't be included\n",
    "\n",
    "reddit.hide_score.value_counts()"
   ]
  },
  {
   "cell_type": "code",
   "execution_count": 14,
   "metadata": {},
   "outputs": [
    {
     "data": {
      "text/plain": [
       "False    26683\n",
       "True         5\n",
       "Name: contest_mode, dtype: int64"
      ]
     },
     "execution_count": 14,
     "metadata": {},
     "output_type": "execute_result"
    }
   ],
   "source": [
    "# not enough variation to include\n",
    "\n",
    "reddit.contest_mode.value_counts()"
   ]
  },
  {
   "cell_type": "code",
   "execution_count": 15,
   "metadata": {},
   "outputs": [
    {
     "data": {
      "text/plain": [
       "False    26688\n",
       "Name: archived, dtype: int64"
      ]
     },
     "execution_count": 15,
     "metadata": {},
     "output_type": "execute_result"
    }
   ],
   "source": [
    "# not enough variation to include\n",
    "\n",
    "reddit.archived.value_counts()"
   ]
  },
  {
   "cell_type": "code",
   "execution_count": 16,
   "metadata": {},
   "outputs": [
    {
     "data": {
      "text/plain": [
       "False    26666\n",
       "True        22\n",
       "Name: locked, dtype: int64"
      ]
     },
     "execution_count": 16,
     "metadata": {},
     "output_type": "execute_result"
    }
   ],
   "source": [
    "# not enough variation to include\n",
    "\n",
    "reddit.locked.value_counts()"
   ]
  },
  {
   "cell_type": "code",
   "execution_count": 17,
   "metadata": {},
   "outputs": [
    {
     "data": {
      "text/plain": [
       "False    26688\n",
       "Name: spoiler, dtype: int64"
      ]
     },
     "execution_count": 17,
     "metadata": {},
     "output_type": "execute_result"
    }
   ],
   "source": [
    "# no variation, will not include\n",
    "\n",
    "reddit.spoiler.value_counts()"
   ]
  },
  {
   "cell_type": "code",
   "execution_count": 18,
   "metadata": {
    "scrolled": true
   },
   "outputs": [
    {
     "data": {
      "text/plain": [
       "False    26687\n",
       "True         1\n",
       "Name: stickied, dtype: int64"
      ]
     },
     "execution_count": 18,
     "metadata": {},
     "output_type": "execute_result"
    }
   ],
   "source": [
    "# not enough variation to include\n",
    "\n",
    "reddit.stickied.value_counts()"
   ]
  },
  {
   "cell_type": "code",
   "execution_count": 19,
   "metadata": {},
   "outputs": [
    {
     "data": {
      "text/plain": [
       "True     24594\n",
       "False     2094\n",
       "Name: is_self, dtype: int64"
      ]
     },
     "execution_count": 19,
     "metadata": {},
     "output_type": "execute_result"
    }
   ],
   "source": [
    "reddit.is_self.value_counts()"
   ]
  },
  {
   "cell_type": "code",
   "execution_count": 20,
   "metadata": {
    "scrolled": true
   },
   "outputs": [
    {
     "data": {
      "text/plain": [
       "self       18192\n",
       "default     8480\n",
       "nsfw          16\n",
       "Name: thumbnail, dtype: int64"
      ]
     },
     "execution_count": 20,
     "metadata": {},
     "output_type": "execute_result"
    }
   ],
   "source": [
    "reddit.thumbnail.value_counts()"
   ]
  },
  {
   "cell_type": "code",
   "execution_count": 21,
   "metadata": {},
   "outputs": [
    {
     "data": {
      "text/plain": [
       "22396"
      ]
     },
     "execution_count": 21,
     "metadata": {},
     "output_type": "execute_result"
    }
   ],
   "source": [
    "# too many nulls to include\n",
    "\n",
    "reddit.link_flair_css_class.isnull().sum()"
   ]
  },
  {
   "cell_type": "code",
   "execution_count": 22,
   "metadata": {
    "collapsed": true
   },
   "outputs": [],
   "source": [
    "# columns that don't have enough variation or too many nulls in them have not been included in the new reddit df,\n",
    "# dataframe has also been reordered to show the columns of interest near the left\n",
    "# did not include link_flair_css_class because the same information is in link_flair_text\n",
    "\n",
    "reddit = reddit[['subreddit', 'ups', 'title', 'selftext', 'edited', 'is_self', 'link_flair_text', 'thumbnail']]"
   ]
  },
  {
   "cell_type": "code",
   "execution_count": 23,
   "metadata": {
    "scrolled": true
   },
   "outputs": [
    {
     "name": "stdout",
     "output_type": "stream",
     "text": [
      "<class 'pandas.core.frame.DataFrame'>\n",
      "RangeIndex: 26688 entries, 0 to 26687\n",
      "Data columns (total 8 columns):\n",
      "subreddit          26688 non-null object\n",
      "ups                26688 non-null float64\n",
      "title              26688 non-null object\n",
      "selftext           26688 non-null object\n",
      "edited             26688 non-null object\n",
      "is_self            26688 non-null bool\n",
      "link_flair_text    4610 non-null object\n",
      "thumbnail          26688 non-null object\n",
      "dtypes: bool(1), float64(1), object(6)\n",
      "memory usage: 1.5+ MB\n"
     ]
    }
   ],
   "source": [
    "reddit.info()"
   ]
  },
  {
   "cell_type": "code",
   "execution_count": 24,
   "metadata": {
    "collapsed": true
   },
   "outputs": [],
   "source": [
    "reddit.link_flair_text.fillna(0, inplace=True)"
   ]
  },
  {
   "cell_type": "code",
   "execution_count": 25,
   "metadata": {
    "scrolled": false
   },
   "outputs": [
    {
     "data": {
      "text/html": [
       "<div>\n",
       "<style>\n",
       "    .dataframe thead tr:only-child th {\n",
       "        text-align: right;\n",
       "    }\n",
       "\n",
       "    .dataframe thead th {\n",
       "        text-align: left;\n",
       "    }\n",
       "\n",
       "    .dataframe tbody tr th {\n",
       "        vertical-align: top;\n",
       "    }\n",
       "</style>\n",
       "<table border=\"1\" class=\"dataframe\">\n",
       "  <thead>\n",
       "    <tr style=\"text-align: right;\">\n",
       "      <th></th>\n",
       "      <th>subreddit</th>\n",
       "      <th>ups</th>\n",
       "      <th>title</th>\n",
       "      <th>selftext</th>\n",
       "      <th>edited</th>\n",
       "      <th>is_self</th>\n",
       "      <th>link_flair_text</th>\n",
       "      <th>thumbnail</th>\n",
       "    </tr>\n",
       "  </thead>\n",
       "  <tbody>\n",
       "    <tr>\n",
       "      <th>0</th>\n",
       "      <td>techsupport</td>\n",
       "      <td>1.0</td>\n",
       "      <td>Help with audio set-up</td>\n",
       "      <td>I have a Sony surround sound system for a blu-...</td>\n",
       "      <td>False</td>\n",
       "      <td>True</td>\n",
       "      <td>0</td>\n",
       "      <td>self</td>\n",
       "    </tr>\n",
       "    <tr>\n",
       "      <th>1</th>\n",
       "      <td>learnprogramming</td>\n",
       "      <td>23.0</td>\n",
       "      <td>Optimizing code for speed</td>\n",
       "      <td>I've written what seems to be a prohibitively ...</td>\n",
       "      <td>False</td>\n",
       "      <td>True</td>\n",
       "      <td>0</td>\n",
       "      <td>self</td>\n",
       "    </tr>\n",
       "    <tr>\n",
       "      <th>2</th>\n",
       "      <td>gamedev</td>\n",
       "      <td>12.0</td>\n",
       "      <td>Seeking Tales of Development Woe (and Triumph)...</td>\n",
       "      <td>I'm writing an article called \"Video Games Tha...</td>\n",
       "      <td>False</td>\n",
       "      <td>True</td>\n",
       "      <td>Discussion</td>\n",
       "      <td>self</td>\n",
       "    </tr>\n",
       "    <tr>\n",
       "      <th>3</th>\n",
       "      <td>learnprogramming</td>\n",
       "      <td>0.0</td>\n",
       "      <td>[Java] Finding smallest value in an array</td>\n",
       "      <td>[deleted]</td>\n",
       "      <td>1480698462</td>\n",
       "      <td>True</td>\n",
       "      <td>Solved</td>\n",
       "      <td>default</td>\n",
       "    </tr>\n",
       "    <tr>\n",
       "      <th>4</th>\n",
       "      <td>learnpython</td>\n",
       "      <td>6.0</td>\n",
       "      <td>currying functions using functools</td>\n",
       "      <td>I have the following representation of argumen...</td>\n",
       "      <td>1480709138</td>\n",
       "      <td>True</td>\n",
       "      <td>0</td>\n",
       "      <td>self</td>\n",
       "    </tr>\n",
       "  </tbody>\n",
       "</table>\n",
       "</div>"
      ],
      "text/plain": [
       "          subreddit   ups                                              title  \\\n",
       "0       techsupport   1.0                             Help with audio set-up   \n",
       "1  learnprogramming  23.0                          Optimizing code for speed   \n",
       "2           gamedev  12.0  Seeking Tales of Development Woe (and Triumph)...   \n",
       "3  learnprogramming   0.0          [Java] Finding smallest value in an array   \n",
       "4       learnpython   6.0                 currying functions using functools   \n",
       "\n",
       "                                            selftext      edited  is_self  \\\n",
       "0  I have a Sony surround sound system for a blu-...       False     True   \n",
       "1  I've written what seems to be a prohibitively ...       False     True   \n",
       "2  I'm writing an article called \"Video Games Tha...       False     True   \n",
       "3                                          [deleted]  1480698462     True   \n",
       "4  I have the following representation of argumen...  1480709138     True   \n",
       "\n",
       "  link_flair_text thumbnail  \n",
       "0               0      self  \n",
       "1               0      self  \n",
       "2      Discussion      self  \n",
       "3          Solved   default  \n",
       "4               0      self  "
      ]
     },
     "execution_count": 25,
     "metadata": {},
     "output_type": "execute_result"
    }
   ],
   "source": [
    "reddit.head()"
   ]
  },
  {
   "cell_type": "code",
   "execution_count": 26,
   "metadata": {
    "scrolled": true
   },
   "outputs": [
    {
     "data": {
      "text/plain": [
       "(26688, 8)"
      ]
     },
     "execution_count": 26,
     "metadata": {},
     "output_type": "execute_result"
    }
   ],
   "source": [
    "reddit.shape"
   ]
  },
  {
   "cell_type": "markdown",
   "metadata": {},
   "source": [
    "Deleting all observations where the text of the post has been deleted or removed. Deleted is by the user and Removed is by the website. "
   ]
  },
  {
   "cell_type": "code",
   "execution_count": 27,
   "metadata": {},
   "outputs": [
    {
     "data": {
      "text/plain": [
       "(5269, 8)"
      ]
     },
     "execution_count": 27,
     "metadata": {},
     "output_type": "execute_result"
    }
   ],
   "source": [
    "reddit[reddit.selftext == '[deleted]'].shape"
   ]
  },
  {
   "cell_type": "code",
   "execution_count": 28,
   "metadata": {},
   "outputs": [
    {
     "data": {
      "text/plain": [
       "(3211, 8)"
      ]
     },
     "execution_count": 28,
     "metadata": {},
     "output_type": "execute_result"
    }
   ],
   "source": [
    "reddit[reddit.selftext == '[removed]'].shape"
   ]
  },
  {
   "cell_type": "code",
   "execution_count": 29,
   "metadata": {},
   "outputs": [
    {
     "data": {
      "text/plain": [
       "(18208, 8)"
      ]
     },
     "execution_count": 29,
     "metadata": {},
     "output_type": "execute_result"
    }
   ],
   "source": [
    "reddit = reddit[reddit.selftext != '[deleted]']\n",
    "reddit = reddit[reddit.selftext != '[removed]']\n",
    "reddit.shape"
   ]
  },
  {
   "cell_type": "markdown",
   "metadata": {},
   "source": [
    "## Determining y\n",
    "\n",
    "This model will use the title and text of the post to predict the subreddit it belongs to. To do this a some subreddits will be combined to broader categories. \n",
    "The remaining subreddits that have more than 1,000 observations will be included in the final dataset, and each subreddit predicted based on the words in the text of the post. "
   ]
  },
  {
   "cell_type": "code",
   "execution_count": 30,
   "metadata": {},
   "outputs": [
    {
     "data": {
      "text/plain": [
       "[techsupport         9569\n",
       " learnprogramming    2710\n",
       " learnpython         1425\n",
       " gamedev              804\n",
       " web_design           445\n",
       " javahelp             422\n",
       " javascript           404\n",
       " csshelp              299\n",
       " Python               276\n",
       " iOSProgramming       262\n",
       " linux                227\n",
       " engineering          213\n",
       " swift                189\n",
       " computerscience      126\n",
       " django               111\n",
       " PHP                   84\n",
       " css                   77\n",
       " java                  76\n",
       " HTML                  75\n",
       " ruby                  67\n",
       " flask                 62\n",
       " compsci               43\n",
       " technology            42\n",
       " cpp                   34\n",
       " html5                 33\n",
       " pygame                32\n",
       " jquery                29\n",
       " perl                  21\n",
       " lisp                  14\n",
       " programmer             9\n",
       " dailyprogrammer        9\n",
       " IPython                8\n",
       " inventwithpython       5\n",
       " netsec                 4\n",
       " pystats                2\n",
       " Name: subreddit, dtype: int64]"
      ]
     },
     "execution_count": 30,
     "metadata": {},
     "output_type": "execute_result"
    }
   ],
   "source": [
    "[reddit.subreddit.value_counts()]"
   ]
  },
  {
   "cell_type": "code",
   "execution_count": 31,
   "metadata": {
    "collapsed": true
   },
   "outputs": [],
   "source": [
    "# resets the subreddits to be more inclusive\n",
    "\n",
    "sub_list = []\n",
    "for x in reddit.subreddit:\n",
    "    if 'ython' in x or 'pygame' in x or 'pystats' in x or 'flask' in x:\n",
    "        x = 'python'\n",
    "        sub_list.append(x)\n",
    "    elif x == 'java' or x == 'javahelp':\n",
    "        x = 'java'\n",
    "        sub_list.append(x)  \n",
    "    elif 'program' in x:\n",
    "        x = 'programming'\n",
    "        sub_list.append(x)\n",
    "    elif x == 'html5':\n",
    "        x = 'HTML'\n",
    "        sub_list.append(x)\n",
    "    elif 'css' in x:\n",
    "        x =  'css'\n",
    "        sub_list.append(x)\n",
    "    else:\n",
    "        sub_list.append(x)"
   ]
  },
  {
   "cell_type": "code",
   "execution_count": 32,
   "metadata": {
    "collapsed": true
   },
   "outputs": [],
   "source": [
    "reddit.subreddit = sub_list"
   ]
  },
  {
   "cell_type": "code",
   "execution_count": 33,
   "metadata": {},
   "outputs": [
    {
     "data": {
      "text/plain": [
       "['techsupport', 'programming', 'python']"
      ]
     },
     "execution_count": 33,
     "metadata": {},
     "output_type": "execute_result"
    }
   ],
   "source": [
    "# list of top subreddits\n",
    "\n",
    "sub = pd.DataFrame(reddit.subreddit.value_counts())\n",
    "\n",
    "sub = sub.loc[sub['subreddit'] >= 1000]\n",
    "sub_li = list(sub.index)\n",
    "sub_li"
   ]
  },
  {
   "cell_type": "code",
   "execution_count": 34,
   "metadata": {
    "collapsed": true
   },
   "outputs": [],
   "source": [
    "# data set now only contains observations of the subreddits with more than 1,000 instances\n",
    "\n",
    "reddit = reddit[(reddit.subreddit == 'techsupport') | (reddit.subreddit == 'programming') | \n",
    "                (reddit.subreddit == 'python')]"
   ]
  },
  {
   "cell_type": "code",
   "execution_count": 35,
   "metadata": {
    "scrolled": true
   },
   "outputs": [
    {
     "data": {
      "text/plain": [
       "(14107, 8)"
      ]
     },
     "execution_count": 35,
     "metadata": {},
     "output_type": "execute_result"
    }
   ],
   "source": [
    "reddit.shape"
   ]
  },
  {
   "cell_type": "code",
   "execution_count": 36,
   "metadata": {
    "scrolled": true
   },
   "outputs": [
    {
     "data": {
      "text/html": [
       "<div>\n",
       "<style>\n",
       "    .dataframe thead tr:only-child th {\n",
       "        text-align: right;\n",
       "    }\n",
       "\n",
       "    .dataframe thead th {\n",
       "        text-align: left;\n",
       "    }\n",
       "\n",
       "    .dataframe tbody tr th {\n",
       "        vertical-align: top;\n",
       "    }\n",
       "</style>\n",
       "<table border=\"1\" class=\"dataframe\">\n",
       "  <thead>\n",
       "    <tr style=\"text-align: right;\">\n",
       "      <th></th>\n",
       "      <th>subreddit</th>\n",
       "      <th>ups</th>\n",
       "      <th>title</th>\n",
       "      <th>selftext</th>\n",
       "      <th>edited</th>\n",
       "      <th>is_self</th>\n",
       "      <th>link_flair_text</th>\n",
       "      <th>thumbnail</th>\n",
       "    </tr>\n",
       "  </thead>\n",
       "  <tbody>\n",
       "    <tr>\n",
       "      <th>0</th>\n",
       "      <td>techsupport</td>\n",
       "      <td>1.0</td>\n",
       "      <td>Help with audio set-up</td>\n",
       "      <td>I have a Sony surround sound system for a blu-...</td>\n",
       "      <td>False</td>\n",
       "      <td>True</td>\n",
       "      <td>0</td>\n",
       "      <td>self</td>\n",
       "    </tr>\n",
       "    <tr>\n",
       "      <th>1</th>\n",
       "      <td>programming</td>\n",
       "      <td>23.0</td>\n",
       "      <td>Optimizing code for speed</td>\n",
       "      <td>I've written what seems to be a prohibitively ...</td>\n",
       "      <td>False</td>\n",
       "      <td>True</td>\n",
       "      <td>0</td>\n",
       "      <td>self</td>\n",
       "    </tr>\n",
       "    <tr>\n",
       "      <th>4</th>\n",
       "      <td>python</td>\n",
       "      <td>6.0</td>\n",
       "      <td>currying functions using functools</td>\n",
       "      <td>I have the following representation of argumen...</td>\n",
       "      <td>1480709138</td>\n",
       "      <td>True</td>\n",
       "      <td>0</td>\n",
       "      <td>self</td>\n",
       "    </tr>\n",
       "    <tr>\n",
       "      <th>5</th>\n",
       "      <td>programming</td>\n",
       "      <td>1.0</td>\n",
       "      <td>Text Editor integration</td>\n",
       "      <td>I am about to create a website where users use...</td>\n",
       "      <td>False</td>\n",
       "      <td>True</td>\n",
       "      <td>0</td>\n",
       "      <td>self</td>\n",
       "    </tr>\n",
       "    <tr>\n",
       "      <th>7</th>\n",
       "      <td>python</td>\n",
       "      <td>8.0</td>\n",
       "      <td>What are some ways to learn efficient python?</td>\n",
       "      <td>This [post](https://www.reddit.com/r/learnpyth...</td>\n",
       "      <td>False</td>\n",
       "      <td>True</td>\n",
       "      <td>0</td>\n",
       "      <td>self</td>\n",
       "    </tr>\n",
       "  </tbody>\n",
       "</table>\n",
       "</div>"
      ],
      "text/plain": [
       "     subreddit   ups                                          title  \\\n",
       "0  techsupport   1.0                         Help with audio set-up   \n",
       "1  programming  23.0                      Optimizing code for speed   \n",
       "4       python   6.0             currying functions using functools   \n",
       "5  programming   1.0                        Text Editor integration   \n",
       "7       python   8.0  What are some ways to learn efficient python?   \n",
       "\n",
       "                                            selftext      edited  is_self  \\\n",
       "0  I have a Sony surround sound system for a blu-...       False     True   \n",
       "1  I've written what seems to be a prohibitively ...       False     True   \n",
       "4  I have the following representation of argumen...  1480709138     True   \n",
       "5  I am about to create a website where users use...       False     True   \n",
       "7  This [post](https://www.reddit.com/r/learnpyth...       False     True   \n",
       "\n",
       "  link_flair_text thumbnail  \n",
       "0               0      self  \n",
       "1               0      self  \n",
       "4               0      self  \n",
       "5               0      self  \n",
       "7               0      self  "
      ]
     },
     "execution_count": 36,
     "metadata": {},
     "output_type": "execute_result"
    }
   ],
   "source": [
    "reddit.head()"
   ]
  },
  {
   "cell_type": "markdown",
   "metadata": {},
   "source": [
    "### Binerizing Featuers"
   ]
  },
  {
   "cell_type": "code",
   "execution_count": 37,
   "metadata": {},
   "outputs": [
    {
     "name": "stdout",
     "output_type": "stream",
     "text": [
      "<class 'pandas.core.frame.DataFrame'>\n",
      "Int64Index: 14107 entries, 0 to 26686\n",
      "Data columns (total 8 columns):\n",
      "subreddit          14107 non-null object\n",
      "ups                14107 non-null float64\n",
      "title              14107 non-null object\n",
      "selftext           14107 non-null object\n",
      "edited             14107 non-null object\n",
      "is_self            14107 non-null bool\n",
      "link_flair_text    14107 non-null object\n",
      "thumbnail          14107 non-null object\n",
      "dtypes: bool(1), float64(1), object(6)\n",
      "memory usage: 895.5+ KB\n"
     ]
    }
   ],
   "source": [
    "reddit.info()"
   ]
  },
  {
   "cell_type": "code",
   "execution_count": 38,
   "metadata": {
    "collapsed": true
   },
   "outputs": [],
   "source": [
    "# turn boolean and object columns into binary features\n",
    "\n",
    "reddit.is_self = reddit.is_self.apply(lambda x: 0 if  x == False else 1)\n",
    "\n",
    "reddit.edited = reddit.edited.apply(lambda x: 0 if x == 'False' else 1)\n",
    "\n",
    "reddit.link_flair_text = reddit.link_flair_text.apply(lambda x: 1 if x == 'Solved' else 0)\n",
    "\n",
    "reddit.thumbnail = reddit.thumbnail.apply(lambda x: 1 if x == 'self' else 0)"
   ]
  },
  {
   "cell_type": "code",
   "execution_count": 39,
   "metadata": {},
   "outputs": [
    {
     "name": "stdout",
     "output_type": "stream",
     "text": [
      "<class 'pandas.core.frame.DataFrame'>\n",
      "Int64Index: 14107 entries, 0 to 26686\n",
      "Data columns (total 8 columns):\n",
      "subreddit          14107 non-null object\n",
      "ups                14107 non-null float64\n",
      "title              14107 non-null object\n",
      "selftext           14107 non-null object\n",
      "edited             14107 non-null int64\n",
      "is_self            14107 non-null int64\n",
      "link_flair_text    14107 non-null int64\n",
      "thumbnail          14107 non-null int64\n",
      "dtypes: float64(1), int64(4), object(3)\n",
      "memory usage: 991.9+ KB\n"
     ]
    }
   ],
   "source": [
    "reddit.info()"
   ]
  },
  {
   "cell_type": "markdown",
   "metadata": {},
   "source": [
    "### Dealing with outliers\n",
    "\n",
    "The up votes of the posts give relevant information, however the outliers distort modeling. All votes post with 4 upvotes or more will be represented as 4."
   ]
  },
  {
   "cell_type": "code",
   "execution_count": 40,
   "metadata": {
    "collapsed": true
   },
   "outputs": [],
   "source": [
    "reddit.ups = reddit.ups.apply(lambda x: x if x <= 3 else 4)"
   ]
  },
  {
   "cell_type": "code",
   "execution_count": 41,
   "metadata": {},
   "outputs": [
    {
     "data": {
      "text/plain": [
       "count    14107.000000\n",
       "mean         1.486850\n",
       "std          1.116251\n",
       "min          0.000000\n",
       "25%          1.000000\n",
       "50%          1.000000\n",
       "75%          2.000000\n",
       "max          4.000000\n",
       "Name: ups, dtype: float64"
      ]
     },
     "execution_count": 41,
     "metadata": {},
     "output_type": "execute_result"
    }
   ],
   "source": [
    "reddit.ups.describe()"
   ]
  },
  {
   "cell_type": "code",
   "execution_count": 42,
   "metadata": {
    "scrolled": true
   },
   "outputs": [
    {
     "data": {
      "text/plain": [
       "1.0    8611\n",
       "2.0    1744\n",
       "4.0    1637\n",
       "0.0    1339\n",
       "3.0     776\n",
       "Name: ups, dtype: int64"
      ]
     },
     "execution_count": 42,
     "metadata": {},
     "output_type": "execute_result"
    }
   ],
   "source": [
    "reddit.ups.value_counts()"
   ]
  },
  {
   "cell_type": "code",
   "execution_count": 43,
   "metadata": {
    "collapsed": true
   },
   "outputs": [],
   "source": [
    "reddit.ups = reddit.ups.astype(int)"
   ]
  },
  {
   "cell_type": "markdown",
   "metadata": {},
   "source": [
    "## EDA Visualizations"
   ]
  },
  {
   "cell_type": "markdown",
   "metadata": {},
   "source": [
    "These histograms shows how the up vote distributions vary between the subreddits, and the distribution of all the up votes together (in black)."
   ]
  },
  {
   "cell_type": "code",
   "execution_count": 44,
   "metadata": {
    "scrolled": true
   },
   "outputs": [
    {
     "data": {
      "image/png": "[encoded data removed]",
      "text/plain": [
       "<matplotlib.figure.Figure at 0x10c5facf8>"
      ]
     },
     "metadata": {},
     "output_type": "display_data"
    }
   ],
   "source": [
    "plt.hist('ups', data=reddit, color='black', bins=range(0,6))\n",
    "plt.title('All Subreddits Histogram of Up Votes');"
   ]
  },
  {
   "cell_type": "code",
   "execution_count": 45,
   "metadata": {},
   "outputs": [
    {
     "data": {
      "image/png": "[encoded data removed]",
      "text/plain": [
       "<matplotlib.figure.Figure at 0x114559978>"
      ]
     },
     "metadata": {},
     "output_type": "display_data"
    }
   ],
   "source": [
    "plt.hist('ups', data=reddit[reddit.subreddit == 'techsupport'], color='indigo', bins=range(0,6))\n",
    "plt.title('Techsupport Histogram of Up Votes');"
   ]
  },
  {
   "cell_type": "code",
   "execution_count": 46,
   "metadata": {},
   "outputs": [
    {
     "data": {
      "image/png": "[encoded data removed]",
      "text/plain": [
       "<matplotlib.figure.Figure at 0x118011978>"
      ]
     },
     "metadata": {},
     "output_type": "display_data"
    }
   ],
   "source": [
    "plt.hist('ups', data=reddit[reddit.subreddit == 'programming'], color='teal', bins=range(0,6))\n",
    "plt.title('Programming Histogram of Up Votes');"
   ]
  },
  {
   "cell_type": "code",
   "execution_count": 47,
   "metadata": {},
   "outputs": [
    {
     "data": {
      "image/png": "[encoded data removed]",
      "text/plain": [
       "<matplotlib.figure.Figure at 0x1190026d8>"
      ]
     },
     "metadata": {},
     "output_type": "display_data"
    }
   ],
   "source": [
    "plt.hist('ups', data=reddit[reddit.subreddit == 'python'], color='coral', bins=range(0,6))\n",
    "plt.title('Python Histogram of Up Votes');"
   ]
  },
  {
   "cell_type": "markdown",
   "metadata": {},
   "source": [
    "Each subreddit has a different distrubution of upvotes, but they all have a peak at 1 upvote."
   ]
  },
  {
   "cell_type": "markdown",
   "metadata": {},
   "source": [
    "# Modeling "
   ]
  },
  {
   "cell_type": "markdown",
   "metadata": {},
   "source": [
    "Each classification it dealt with separately, the model predicts if the observation is Techsupport or not, then Programming or not, and finally Python or not."
   ]
  },
  {
   "cell_type": "markdown",
   "metadata": {},
   "source": [
    "## Techsupport Classification\n",
    "\n",
    "These models predict if a post is in the subreddit Techsupport or not."
   ]
  },
  {
   "cell_type": "code",
   "execution_count": 48,
   "metadata": {
    "collapsed": true
   },
   "outputs": [],
   "source": [
    "X_tech = reddit.drop('subreddit', axis=1)\n",
    "y_tech = pd.DataFrame(reddit.subreddit.apply(lambda x: 1 if x == 'techsupport' else 0))\n",
    "\n",
    "X_train_tech, X_test_tech, y_train_tech, y_test_tech = train_test_split(X_tech, y_tech, test_size=.3, random_state=42)"
   ]
  },
  {
   "cell_type": "markdown",
   "metadata": {},
   "source": [
    "### Preprocessing"
   ]
  },
  {
   "cell_type": "code",
   "execution_count": 49,
   "metadata": {
    "collapsed": true
   },
   "outputs": [],
   "source": [
    "def NLP(X_train, X_test, y_train, y_test):\n",
    "    \n",
    "    '''Natural Lanugage Processing Function; separates title and text of posts processes \n",
    "    them, then joins them back together with other rows.'''\n",
    "    \n",
    "    t_vect = TfidfVectorizer(stop_words='english', max_features=1000)\n",
    "    t_vect.fit(X_train['title'])\n",
    "    X_train_t_tit = t_vect.transform(X_train['title'])\n",
    "    X_train_t_tit = pd.DataFrame(X_train_t_tit.todense())\n",
    "    X_test_t_tit = t_vect.transform(X_test['title'])\n",
    "    X_test_t_tit = pd.DataFrame(X_test_t_tit.todense())    \n",
    "\n",
    "    t_vect.fit(X_train['selftext'])\n",
    "    X_train_t_text = t_vect.transform(X_train['selftext'])\n",
    "    X_train_t_text = pd.DataFrame(X_train_t_text.todense())\n",
    "    X_test_t_text = t_vect.transform(X_test['selftext'])\n",
    "    X_test_t_text = pd.DataFrame(X_test_t_text.todense())\n",
    "    \n",
    "    # join the two NLP matrices from title and softtext columns, with the numeric columns \n",
    "    # reset inex of numeric columns for indices to match up \n",
    "\n",
    "    X_train_t = pd.concat([X_train_t_tit, X_train_t_text, X_train.drop(['title', 'selftext'], axis=1)\n",
    "                           .reset_index().drop('index', axis=1)], axis=1)\n",
    "    X_test_t = pd.concat([X_test_t_tit, X_test_t_text, X_test.drop(['title', 'selftext'], axis=1)\n",
    "                          .reset_index().drop('index', axis=1)], axis=1)\n",
    "\n",
    "    # combines and reduces features to 500, because of large amount of columns in output\n",
    "    pca = PCA(n_components=500)\n",
    "\n",
    "    X_train_t = pca.fit_transform(X_train_t)\n",
    "    X_test_t = pca.transform(X_test_t)\n",
    "    \n",
    "    # reset index of y \n",
    "    y_train = y_train.reset_index().drop('index', axis=1)\n",
    "    y_train = y_train.subreddit\n",
    "\n",
    "    y_test = y_test.reset_index().drop('index', axis=1)\n",
    "    y_test = y_test.subreddit\n",
    "    \n",
    "    return X_train_t, X_test_t, y_train, y_test"
   ]
  },
  {
   "cell_type": "code",
   "execution_count": 50,
   "metadata": {
    "collapsed": true,
    "scrolled": true
   },
   "outputs": [],
   "source": [
    "# call the preprocessing function to get training and testing set ready for modeling\n",
    "\n",
    "X_train_tech, X_test_tech, y_train_tech, y_test_tech = NLP(X_train_tech, X_test_tech, y_train_tech, y_test_tech)"
   ]
  },
  {
   "cell_type": "markdown",
   "metadata": {},
   "source": [
    "Basic Models to get an idea of what models to focus on, Decision Trees, Logistic Regression, and KNN Classifier"
   ]
  },
  {
   "cell_type": "code",
   "execution_count": 51,
   "metadata": {},
   "outputs": [
    {
     "name": "stdout",
     "output_type": "stream",
     "text": [
      "baseline 0.6795624873404902\n",
      "cross validated train score 0.927384710092\n",
      "cross validated test score 0.915663916503\n"
     ]
    }
   ],
   "source": [
    "tree = DecisionTreeClassifier()\n",
    "tree.fit(X_train_tech, y_train_tech)\n",
    "\n",
    "baseline = y_train_tech.mean()\n",
    "if baseline >= 0.5:\n",
    "    print('baseline', baseline)\n",
    "else:\n",
    "    print('baseline', 1 - baseline)\n",
    "\n",
    "print('cross validated train score', cross_val_score(tree, X_train_tech, y_train_tech, cv=5).mean())\n",
    "print('cross validated test score', cross_val_score(tree, X_test_tech, y_test_tech, cv=5).mean())"
   ]
  },
  {
   "cell_type": "code",
   "execution_count": 52,
   "metadata": {},
   "outputs": [
    {
     "name": "stdout",
     "output_type": "stream",
     "text": [
      "baseline 0.6795624873404902\n",
      "cross validated train score 0.975187154528\n",
      "cross validated test score 0.968342706245\n"
     ]
    }
   ],
   "source": [
    "logreg = LogisticRegression()\n",
    "logreg.fit(X_train_tech, y_train_tech)\n",
    "\n",
    "baseline = y_train_tech.mean()\n",
    "if baseline >= 0.5:\n",
    "    print('baseline', baseline)\n",
    "else:\n",
    "    print('baseline', 1 - baseline)\n",
    "\n",
    "\n",
    "\n",
    "print('cross validated train score', cross_val_score(logreg, X_train_tech, y_train_tech, cv=5).mean())\n",
    "print('cross validated test score', cross_val_score(logreg, X_test_tech, y_test_tech, cv=5).mean())"
   ]
  },
  {
   "cell_type": "code",
   "execution_count": 53,
   "metadata": {},
   "outputs": [
    {
     "name": "stdout",
     "output_type": "stream",
     "text": [
      "baseline 0.6795624873404902\n",
      "cross validated train score 0.846465725315\n",
      "cross validated test score 0.809361268103\n"
     ]
    }
   ],
   "source": [
    "knn = KNeighborsClassifier()\n",
    "knn.fit(X_train_tech, y_train_tech)\n",
    "\n",
    "baseline = y_train_tech.mean()\n",
    "if baseline >= 0.5:\n",
    "    print('baseline', baseline)\n",
    "else:\n",
    "    print('baseline', 1 - baseline)\n",
    "\n",
    "print('cross validated train score', cross_val_score(knn, X_train_tech, y_train_tech, cv=5).mean())\n",
    "print('cross validated test score', cross_val_score(knn, X_test_tech, y_test_tech, cv=5).mean())"
   ]
  },
  {
   "cell_type": "markdown",
   "metadata": {},
   "source": [
    "Based on these preliminary results, the tunning will focus on the logistic regression and decision trees"
   ]
  },
  {
   "cell_type": "markdown",
   "metadata": {},
   "source": [
    "### Modeling Function With Tunning\n",
    "\n",
    "further optimize the better models with tunning"
   ]
  },
  {
   "cell_type": "code",
   "execution_count": 54,
   "metadata": {
    "collapsed": true
   },
   "outputs": [],
   "source": [
    "def forest(X_train, X_test, y_train, y_test):\n",
    "    \n",
    "    '''GridSearch on RandomForest Classifier'''\n",
    "    \n",
    "    rf = RandomForestClassifier(n_jobs=-1)\n",
    "    \n",
    "    params = {\n",
    "        'max_features':['sqrt'],\n",
    "        'n_estimators': range(10, 200),\n",
    "        'max_depth': range(20, 200)\n",
    "    }\n",
    "    \n",
    "    rand = RandomizedSearchCV(rf, param_distributions=params, verbose=3, n_jobs=-1, n_iter=20)\n",
    "    \n",
    "    rand.fit(X_train, y_train)\n",
    "    \n",
    "    print(rand.best_params_)\n",
    "    \n",
    "    rf = RandomForestClassifier(n_jobs=-1)\n",
    "    rf.set_params(**rand.best_params_)\n",
    "    \n",
    "    rf.fit(X_train, y_train)\n",
    "\n",
    "    baseline = y_train.mean()\n",
    "    if baseline >= 0.5:\n",
    "        print('baseline', baseline)\n",
    "    else:\n",
    "        print('baseline', 1 - baseline)\n",
    "    \n",
    "    print ('cross val train score', cross_val_score(rf, X_train, y_train, cv=5).mean())\n",
    "    print ('cross val test score', cross_val_score(rf, X_test, y_test, cv=5).mean())\n",
    "    \n",
    "    predictions = rf.predict(X_test)\n",
    "    print (confusion_matrix(y_test, predictions))\n",
    "    print (classification_report(y_test, predictions))"
   ]
  },
  {
   "cell_type": "code",
   "execution_count": 55,
   "metadata": {
    "collapsed": true
   },
   "outputs": [],
   "source": [
    "def tree(X_train, X_test, y_train, y_test):\n",
    "    \n",
    "    tree = DecisionTreeClassifier()\n",
    "    \n",
    "    params = {\n",
    "        'max_depth': range(2, 100, 5), \n",
    "        'max_features': ['auto', 'log2', None]\n",
    "    }\n",
    "    tree_rand = RandomizedSearchCV(tree, param_distributions=params, verbose=3, n_jobs=-1, cv=3)\n",
    "\n",
    "    tree_rand.fit(X_train, y_train)\n",
    "\n",
    "    print(tree_rand.best_params_)\n",
    "\n",
    "    tree = DecisionTreeClassifier(**tree_rand.best_params_)\n",
    "    tree.fit(X_train, y_train)\n",
    "    \n",
    "    baseline = y_train.mean()\n",
    "    if baseline >= 0.5:\n",
    "        print('baseline', baseline)\n",
    "    else:\n",
    "        print('baseline', 1 - baseline)\n",
    "    \n",
    "    print ('cross val train score', cross_val_score(tree, X_train, y_train, cv=5).mean())\n",
    "    print ('cross val test score',cross_val_score(tree, X_test, y_test, cv=5).mean())\n",
    "    \n",
    "    predictions = tree.predict(X_test)\n",
    "    print(confusion_matrix(y_test, predictions))\n",
    "    print(classification_report(y_test, predictions))"
   ]
  },
  {
   "cell_type": "code",
   "execution_count": 56,
   "metadata": {
    "collapsed": true
   },
   "outputs": [],
   "source": [
    "## This gridsearch isn't able to run because of time issues, so the same optimization is done belwo manually\n",
    "\n",
    "# def logistic(X_train, X_test, y_train, y_test):\n",
    "#     logreg = LogisticRegression()\n",
    "    \n",
    "#     params = {'C': [1, 10, 100, 1000]}\n",
    "    \n",
    "#     grid = GridSearchCV(logreg, param_grid=params, verbose=3, n_jobs=-1, cv=2)\n",
    "    \n",
    "#     grid.fit(X_train, y_train)\n",
    "    \n",
    "#     print(grid.best_params_)\n",
    "    \n",
    "#     logreg = LogisticRegression()\n",
    "#     logreg.set_params(**grid.best_params_)\n",
    "    \n",
    "#     logreg.fit(X_train, y_train)\n",
    "\n",
    "#     baseline = y_train.mean()\n",
    "#     if baseline >= 0.5:\n",
    "#         print('baseline', baseline)\n",
    "#     else:\n",
    "#         print('baseline', 1 - baseline)\n",
    "    \n",
    "#     print ('cross val train score', cross_val_score(logreg, X_train, y_train, cv=5).mean())\n",
    "#     print ('cross val test score', cross_val_score(logreg, X_test, y_test, cv=5).mean())\n",
    "    \n",
    "#     predictions = logreg.predict(X_test)\n",
    "#     print (confusion_matrix(y_test, predictions))\n",
    "#     print (classification_report(y_test, predictions))"
   ]
  },
  {
   "cell_type": "markdown",
   "metadata": {},
   "source": [
    "### Logistic Regression\n",
    "to tun the parameters of the logistic regression, gridsearch is not able to work effectively. So the parameters are tunned via a function below. The parameters are given the default values of the high cross val test scores"
   ]
  },
  {
   "cell_type": "code",
   "execution_count": 57,
   "metadata": {
    "collapsed": true
   },
   "outputs": [],
   "source": [
    "def log(X_train, X_test, y_train, y_test, C=1):\n",
    "    logreg = LogisticRegression(C=C)\n",
    "    logreg.fit(X_train, y_train)\n",
    "\n",
    "    baseline = y_train.mean()\n",
    "    if baseline >= 0.5:\n",
    "        print('baseline', baseline)\n",
    "    else:\n",
    "        print('baseline', 1 - baseline)\n",
    "\n",
    "    print('cross validated train score', cross_val_score(logreg, X_train, y_train, cv=5).mean())\n",
    "    print('cross validated test score', cross_val_score(logreg, X_test, y_test, cv=5).mean())\n",
    "    \n",
    "    predictions = logreg.predict(X_test)\n",
    "    print (confusion_matrix(y_test, predictions))\n",
    "    print (classification_report(y_test, predictions))"
   ]
  },
  {
   "cell_type": "code",
   "execution_count": 73,
   "metadata": {
    "collapsed": true
   },
   "outputs": [
    {
     "name": "stdout",
     "output_type": "stream",
     "text": [
      "baseline 0.6795624873404902\n",
      "cross validated train score 0.974984674182\n",
      "cross validated test score 0.968107137618\n",
      "[[1309   65]\n",
      " [  45 2814]]\n",
      "             precision    recall  f1-score   support\n",
      "\n",
      "          0       0.97      0.95      0.96      1374\n",
      "          1       0.98      0.98      0.98      2859\n",
      "\n",
      "avg / total       0.97      0.97      0.97      4233\n",
      "\n",
      "CPU times: user 4.82 s, sys: 225 ms, total: 5.05 s\n",
      "Wall time: 5.06 s\n"
     ]
    }
   ],
   "source": [
    "%%time\n",
    "log(X_train_tech, X_test_tech, y_train_tech, y_test_tech, C=1)"
   ]
  },
  {
   "cell_type": "code",
   "execution_count": 74,
   "metadata": {
    "scrolled": true
   },
   "outputs": [
    {
     "name": "stdout",
     "output_type": "stream",
     "text": [
      "baseline 0.6795624873404902\n",
      "cross validated train score 0.9741744963\n",
      "cross validated test score 0.968106019854\n",
      "[[1316   58]\n",
      " [  55 2804]]\n",
      "             precision    recall  f1-score   support\n",
      "\n",
      "          0       0.96      0.96      0.96      1374\n",
      "          1       0.98      0.98      0.98      2859\n",
      "\n",
      "avg / total       0.97      0.97      0.97      4233\n",
      "\n",
      "CPU times: user 6.78 s, sys: 239 ms, total: 7.01 s\n",
      "Wall time: 7.07 s\n"
     ]
    }
   ],
   "source": [
    "%%time\n",
    "log(X_train_tech, X_test_tech, y_train_tech, y_test_tech, C=8)"
   ]
  },
  {
   "cell_type": "code",
   "execution_count": 75,
   "metadata": {
    "collapsed": true
   },
   "outputs": [
    {
     "name": "stdout",
     "output_type": "stream",
     "text": [
      "baseline 0.6795624873404902\n",
      "cross validated train score 0.973769330409\n",
      "cross validated test score 0.966924823428\n",
      "[[1314   60]\n",
      " [  58 2801]]\n",
      "             precision    recall  f1-score   support\n",
      "\n",
      "          0       0.96      0.96      0.96      1374\n",
      "          1       0.98      0.98      0.98      2859\n",
      "\n",
      "avg / total       0.97      0.97      0.97      4233\n",
      "\n",
      "CPU times: user 6.74 s, sys: 225 ms, total: 6.97 s\n",
      "Wall time: 6.98 s\n"
     ]
    }
   ],
   "source": [
    "%%time\n",
    "log(X_train_tech, X_test_tech, y_train_tech, y_test_tech, C=10)"
   ]
  },
  {
   "cell_type": "code",
   "execution_count": 76,
   "metadata": {
    "collapsed": true
   },
   "outputs": [
    {
     "name": "stdout",
     "output_type": "stream",
     "text": [
      "baseline 0.6795624873404902\n",
      "cross validated train score 0.961109409667\n",
      "cross validated test score 0.954637809743\n",
      "[[1294   80]\n",
      " [  66 2793]]\n",
      "             precision    recall  f1-score   support\n",
      "\n",
      "          0       0.95      0.94      0.95      1374\n",
      "          1       0.97      0.98      0.97      2859\n",
      "\n",
      "avg / total       0.97      0.97      0.97      4233\n",
      "\n",
      "CPU times: user 18 s, sys: 419 ms, total: 18.4 s\n",
      "Wall time: 18.8 s\n"
     ]
    }
   ],
   "source": [
    "%%time\n",
    "log(X_train_tech, X_test_tech, y_train_tech, y_test_tech, C=1000)"
   ]
  },
  {
   "cell_type": "markdown",
   "metadata": {},
   "source": [
    "The highest cross val score on the test data so far is the logist regression with a C=1, when the other parameters are altered there is not effect of the score. "
   ]
  },
  {
   "cell_type": "markdown",
   "metadata": {},
   "source": [
    "### Call the randomsearch functions on randomforest and decision trees"
   ]
  },
  {
   "cell_type": "code",
   "execution_count": null,
   "metadata": {
    "collapsed": true
   },
   "outputs": [],
   "source": [
    "%%time\n",
    "forest_grid(X_train_tech, X_test_tech, y_train_tech, y_test_tech)"
   ]
  },
  {
   "cell_type": "code",
   "execution_count": null,
   "metadata": {
    "collapsed": true
   },
   "outputs": [],
   "source": [
    "%%time\n",
    "tree(X_train_tech, X_test_tech, y_train_tech, y_test_tech)"
   ]
  },
  {
   "cell_type": "markdown",
   "metadata": {},
   "source": [
    "### Results of Techsupport\n",
    "\n",
    "The best model by far is the Logistic Regression model so this will be used to predict the subreddits programming and python."
   ]
  },
  {
   "cell_type": "markdown",
   "metadata": {},
   "source": [
    "## Programming Classification"
   ]
  },
  {
   "cell_type": "markdown",
   "metadata": {},
   "source": [
    "### Preprocessing "
   ]
  },
  {
   "cell_type": "code",
   "execution_count": 58,
   "metadata": {
    "collapsed": true
   },
   "outputs": [],
   "source": [
    "X_pro = reddit.drop('subreddit', axis=1)\n",
    "y_pro = pd.DataFrame(reddit.subreddit.apply(lambda x: 1 if x == 'programming' else 0))\n",
    "\n",
    "X_train_pro, X_test_pro, y_train_pro, y_test_pro = train_test_split(X_pro, y_pro, test_size=.3, random_state=42)\n",
    "\n",
    "# call preprocessing NLP function\n",
    "\n",
    "X_train_pro, X_test_pro, y_train_pro, y_test_pro = NLP(X_train_pro, X_test_pro, y_train_pro, y_test_pro)"
   ]
  },
  {
   "cell_type": "markdown",
   "metadata": {},
   "source": [
    "### Logistic Regression"
   ]
  },
  {
   "cell_type": "code",
   "execution_count": 59,
   "metadata": {
    "scrolled": true
   },
   "outputs": [
    {
     "name": "stdout",
     "output_type": "stream",
     "text": [
      "baseline 0.8061575855782864\n",
      "cross validated train score 0.921915432265\n",
      "cross validated test score 0.914957769503\n",
      "[[3280  139]\n",
      " [ 192  622]]\n",
      "             precision    recall  f1-score   support\n",
      "\n",
      "          0       0.94      0.96      0.95      3419\n",
      "          1       0.82      0.76      0.79       814\n",
      "\n",
      "avg / total       0.92      0.92      0.92      4233\n",
      "\n"
     ]
    }
   ],
   "source": [
    "log(X_train_pro, X_test_pro, y_train_pro, y_test_pro, C=8)"
   ]
  },
  {
   "cell_type": "code",
   "execution_count": 80,
   "metadata": {
    "collapsed": true
   },
   "outputs": [
    {
     "name": "stdout",
     "output_type": "stream",
     "text": [
      "baseline 0.8061575855782864\n",
      "cross validated train score 0.921915175766\n",
      "cross validated test score 0.910470787953\n",
      "[[3280  139]\n",
      " [ 189  625]]\n",
      "             precision    recall  f1-score   support\n",
      "\n",
      "          0       0.95      0.96      0.95      3419\n",
      "          1       0.82      0.77      0.79       814\n",
      "\n",
      "avg / total       0.92      0.92      0.92      4233\n",
      "\n"
     ]
    }
   ],
   "source": [
    "log(X_train_pro, X_test_pro, y_train_pro, y_test_pro, C=10)"
   ]
  },
  {
   "cell_type": "code",
   "execution_count": 81,
   "metadata": {
    "collapsed": true
   },
   "outputs": [
    {
     "name": "stdout",
     "output_type": "stream",
     "text": [
      "baseline 0.8061575855782864\n",
      "cross validated train score 0.916648942583\n",
      "cross validated test score 0.893934596872\n",
      "[[3266  153]\n",
      " [ 181  633]]\n",
      "             precision    recall  f1-score   support\n",
      "\n",
      "          0       0.95      0.96      0.95      3419\n",
      "          1       0.81      0.78      0.79       814\n",
      "\n",
      "avg / total       0.92      0.92      0.92      4233\n",
      "\n"
     ]
    }
   ],
   "source": [
    "log(X_train_pro, X_test_pro, y_train_pro, y_test_pro, C=100)"
   ]
  },
  {
   "cell_type": "code",
   "execution_count": 82,
   "metadata": {
    "collapsed": true
   },
   "outputs": [
    {
     "name": "stdout",
     "output_type": "stream",
     "text": [
      "baseline 0.8061575855782864\n",
      "cross validated train score 0.914623472228\n",
      "cross validated test score 0.877391140328\n",
      "[[3261  158]\n",
      " [ 181  633]]\n",
      "             precision    recall  f1-score   support\n",
      "\n",
      "          0       0.95      0.95      0.95      3419\n",
      "          1       0.80      0.78      0.79       814\n",
      "\n",
      "avg / total       0.92      0.92      0.92      4233\n",
      "\n"
     ]
    }
   ],
   "source": [
    "log(X_train_pro, X_test_pro, y_train_pro, y_test_pro, C=1000)"
   ]
  },
  {
   "cell_type": "markdown",
   "metadata": {
    "collapsed": true
   },
   "source": [
    "for the purposes of being complete, the programming classification will also go through the other model functions"
   ]
  },
  {
   "cell_type": "code",
   "execution_count": null,
   "metadata": {
    "collapsed": true
   },
   "outputs": [],
   "source": [
    "forest_grid(X_train_pro, X_test_pro, y_train_pro, y_test_pro)"
   ]
  },
  {
   "cell_type": "code",
   "execution_count": null,
   "metadata": {
    "collapsed": true,
    "scrolled": true
   },
   "outputs": [],
   "source": [
    "tree(X_train_pro, X_test_pro, y_train_pro, y_test_pro)"
   ]
  },
  {
   "cell_type": "markdown",
   "metadata": {
    "collapsed": true
   },
   "source": [
    "The model the procissed the best results in the logistic regression. "
   ]
  },
  {
   "cell_type": "markdown",
   "metadata": {},
   "source": [
    "## Python Classification"
   ]
  },
  {
   "cell_type": "code",
   "execution_count": 60,
   "metadata": {
    "collapsed": true
   },
   "outputs": [],
   "source": [
    "X_py = reddit.drop('subreddit', axis=1)\n",
    "y_py = pd.DataFrame(reddit.subreddit.apply(lambda x: 1 if x == 'python' else 0))\n",
    "\n",
    "X_train_py, X_test_py, y_train_py, y_test_py = train_test_split(X_py, y_py, test_size=.3, random_state=42)"
   ]
  },
  {
   "cell_type": "code",
   "execution_count": 61,
   "metadata": {
    "collapsed": true
   },
   "outputs": [],
   "source": [
    "# call preprocessing NLP function\n",
    "\n",
    "X_train_py, X_test_py, y_train_py, y_test_py = NLP(X_train_py, X_test_py, y_train_py, y_test_py)"
   ]
  },
  {
   "cell_type": "code",
   "execution_count": 85,
   "metadata": {
    "collapsed": true
   },
   "outputs": [
    {
     "name": "stdout",
     "output_type": "stream",
     "text": [
      "baseline 0.8734049017622038\n",
      "cross validated train score 0.936398650815\n",
      "cross validated test score 0.921097406784\n",
      "[[3605   68]\n",
      " [ 217  343]]\n",
      "             precision    recall  f1-score   support\n",
      "\n",
      "          0       0.94      0.98      0.96      3673\n",
      "          1       0.83      0.61      0.71       560\n",
      "\n",
      "avg / total       0.93      0.93      0.93      4233\n",
      "\n"
     ]
    }
   ],
   "source": [
    "log(X_train_py, X_test_py, y_train_py, y_test_py, C=1)"
   ]
  },
  {
   "cell_type": "code",
   "execution_count": 62,
   "metadata": {
    "scrolled": true
   },
   "outputs": [
    {
     "name": "stdout",
     "output_type": "stream",
     "text": [
      "baseline 0.8734049017622038\n",
      "cross validated train score 0.936802995909\n",
      "cross validated test score 0.928657673725\n",
      "[[3588   85]\n",
      " [ 191  369]]\n",
      "             precision    recall  f1-score   support\n",
      "\n",
      "          0       0.95      0.98      0.96      3673\n",
      "          1       0.81      0.66      0.73       560\n",
      "\n",
      "avg / total       0.93      0.93      0.93      4233\n",
      "\n"
     ]
    }
   ],
   "source": [
    "log(X_train_py, X_test_py, y_train_py, y_test_py, C=10)"
   ]
  },
  {
   "cell_type": "code",
   "execution_count": 87,
   "metadata": {
    "collapsed": true
   },
   "outputs": [
    {
     "name": "stdout",
     "output_type": "stream",
     "text": [
      "baseline 0.8734049017622038\n",
      "cross validated train score 0.93234642761\n",
      "cross validated test score 0.91684459963\n",
      "[[3572  101]\n",
      " [ 178  382]]\n",
      "             precision    recall  f1-score   support\n",
      "\n",
      "          0       0.95      0.97      0.96      3673\n",
      "          1       0.79      0.68      0.73       560\n",
      "\n",
      "avg / total       0.93      0.93      0.93      4233\n",
      "\n"
     ]
    }
   ],
   "source": [
    "log(X_train_py, X_test_py, y_train_py, y_test_py, C=100)"
   ]
  },
  {
   "cell_type": "code",
   "execution_count": 88,
   "metadata": {
    "collapsed": true
   },
   "outputs": [
    {
     "name": "stdout",
     "output_type": "stream",
     "text": [
      "baseline 0.8734049017622038\n",
      "cross validated train score 0.929206776705\n",
      "cross validated test score 0.896530376995\n",
      "[[3572  101]\n",
      " [ 179  381]]\n",
      "             precision    recall  f1-score   support\n",
      "\n",
      "          0       0.95      0.97      0.96      3673\n",
      "          1       0.79      0.68      0.73       560\n",
      "\n",
      "avg / total       0.93      0.93      0.93      4233\n",
      "\n"
     ]
    }
   ],
   "source": [
    "log(X_train_py, X_test_py, y_train_py, y_test_py, C=1000)"
   ]
  },
  {
   "cell_type": "markdown",
   "metadata": {
    "collapsed": true
   },
   "source": [
    "for the purposes of being complete, the programming classification will also go through the other model functions"
   ]
  },
  {
   "cell_type": "code",
   "execution_count": null,
   "metadata": {
    "collapsed": true
   },
   "outputs": [],
   "source": [
    "forest_grid(X_train_py, X_test_py, y_train_py, y_test_py)"
   ]
  },
  {
   "cell_type": "code",
   "execution_count": null,
   "metadata": {
    "collapsed": true
   },
   "outputs": [],
   "source": [
    "tree(X_train_py, X_test_py, y_train_py, y_test_py)"
   ]
  },
  {
   "cell_type": "markdown",
   "metadata": {
    "collapsed": true
   },
   "source": [
    "### Analysis "
   ]
  },
  {
   "cell_type": "markdown",
   "metadata": {
    "collapsed": true
   },
   "source": [
    "The best model turned out to be the logistic regression with parameter C = 8. \n",
    "It preformed better than the KNN classifier and the Decision Tree, and Randomforest, both when they were optimized with grid search. Every model preformed much higher than the Baseline."
   ]
  },
  {
   "cell_type": "markdown",
   "metadata": {},
   "source": [
    "The best accuracy score on the test data from the Logistic Regression for predicting \n",
    "- 0.9681 Techsupport \n",
    "- 0.9149 Programming\n",
    "- 0.9286 Python      \n",
    "\n",
    "All these scores are above the base line."
   ]
  },
  {
   "cell_type": "markdown",
   "metadata": {
    "collapsed": true
   },
   "source": [
    "##  Bonus - Neural Networks"
   ]
  },
  {
   "cell_type": "code",
   "execution_count": 86,
   "metadata": {},
   "outputs": [],
   "source": [
    "from sklearn.datasets import fetch_lfw_people, load_boston, load_breast_cancer, load_iris\n",
    "from sklearn.model_selection import train_test_split\n",
    "from sklearn.preprocessing import StandardScaler\n",
    "from sklearn.metrics import accuracy_score\n",
    "\n",
    "from keras.models import Sequential\n",
    "from keras.layers import Dense, Dropout\n",
    "from keras.utils import to_categorical"
   ]
  },
  {
   "cell_type": "markdown",
   "metadata": {},
   "source": [
    "First I create simple neural networks to the classify the data in the same way. The first is where the subreddit is Techsupport or not.  "
   ]
  },
  {
   "cell_type": "markdown",
   "metadata": {},
   "source": [
    "### Techsupport"
   ]
  },
  {
   "cell_type": "code",
   "execution_count": 64,
   "metadata": {
    "scrolled": true
   },
   "outputs": [
    {
     "name": "stdout",
     "output_type": "stream",
     "text": [
      "Train on 9874 samples, validate on 4233 samples\n",
      "Epoch 1/25\n",
      "9874/9874 [==============================] - 4s 362us/step - loss: 0.1982 - acc: 0.9163 - val_loss: 0.0822 - val_acc: 0.9717\n",
      "Epoch 2/25\n",
      "9874/9874 [==============================] - 3s 279us/step - loss: 0.0533 - acc: 0.9828 - val_loss: 0.1002 - val_acc: 0.9665\n",
      "Epoch 3/25\n",
      "9874/9874 [==============================] - 3s 285us/step - loss: 0.0350 - acc: 0.9887 - val_loss: 0.1041 - val_acc: 0.9681\n",
      "Epoch 4/25\n",
      "9874/9874 [==============================] - 3s 315us/step - loss: 0.0199 - acc: 0.9936 - val_loss: 0.1178 - val_acc: 0.9662\n",
      "Epoch 5/25\n",
      "9874/9874 [==============================] - 3s 306us/step - loss: 0.0186 - acc: 0.9942 - val_loss: 0.1233 - val_acc: 0.9698\n",
      "Epoch 6/25\n",
      "9874/9874 [==============================] - 3s 303us/step - loss: 0.0106 - acc: 0.9968 - val_loss: 0.1378 - val_acc: 0.9688\n",
      "Epoch 7/25\n",
      "9874/9874 [==============================] - 3s 311us/step - loss: 0.0125 - acc: 0.9948 - val_loss: 0.1458 - val_acc: 0.9683\n",
      "Epoch 8/25\n",
      "9874/9874 [==============================] - 3s 297us/step - loss: 0.0096 - acc: 0.9969 - val_loss: 0.1431 - val_acc: 0.9705\n",
      "Epoch 9/25\n",
      "9874/9874 [==============================] - 3s 305us/step - loss: 0.0057 - acc: 0.9984 - val_loss: 0.1713 - val_acc: 0.9676\n",
      "Epoch 10/25\n",
      "9874/9874 [==============================] - 3s 294us/step - loss: 0.0026 - acc: 0.9989 - val_loss: 0.2191 - val_acc: 0.9665\n",
      "Epoch 11/25\n",
      "9874/9874 [==============================] - 3s 312us/step - loss: 0.0108 - acc: 0.9978 - val_loss: 0.1614 - val_acc: 0.9643\n",
      "Epoch 12/25\n",
      "9874/9874 [==============================] - 3s 280us/step - loss: 0.0078 - acc: 0.9978 - val_loss: 0.1424 - val_acc: 0.9693\n",
      "Epoch 13/25\n",
      "9874/9874 [==============================] - 3s 285us/step - loss: 0.0050 - acc: 0.9984 - val_loss: 0.1585 - val_acc: 0.9698\n",
      "Epoch 14/25\n",
      "9874/9874 [==============================] - 3s 301us/step - loss: 0.0055 - acc: 0.9981 - val_loss: 0.1695 - val_acc: 0.9698\n",
      "Epoch 15/25\n",
      "9874/9874 [==============================] - 3s 335us/step - loss: 0.0073 - acc: 0.9979 - val_loss: 0.1588 - val_acc: 0.9669\n",
      "Epoch 16/25\n",
      "9874/9874 [==============================] - 3s 303us/step - loss: 0.0047 - acc: 0.9988 - val_loss: 0.1766 - val_acc: 0.9676\n",
      "Epoch 17/25\n",
      "9874/9874 [==============================] - 3s 304us/step - loss: 0.0018 - acc: 0.9997 - val_loss: 0.1988 - val_acc: 0.9686\n",
      "Epoch 18/25\n",
      "9874/9874 [==============================] - 3s 286us/step - loss: 0.0013 - acc: 0.9996 - val_loss: 0.2090 - val_acc: 0.9683\n",
      "Epoch 19/25\n",
      "9874/9874 [==============================] - 3s 312us/step - loss: 0.0018 - acc: 0.9997 - val_loss: 0.2014 - val_acc: 0.9669\n",
      "Epoch 20/25\n",
      "9874/9874 [==============================] - 3s 302us/step - loss: 0.0066 - acc: 0.9982 - val_loss: 0.1812 - val_acc: 0.9655\n",
      "Epoch 21/25\n",
      "9874/9874 [==============================] - 3s 294us/step - loss: 0.0061 - acc: 0.9983 - val_loss: 0.2224 - val_acc: 0.9615\n",
      "Epoch 22/25\n",
      "9874/9874 [==============================] - 3s 287us/step - loss: 0.0069 - acc: 0.9976 - val_loss: 0.1758 - val_acc: 0.9681\n",
      "Epoch 23/25\n",
      "9874/9874 [==============================] - 3s 306us/step - loss: 0.0033 - acc: 0.9993 - val_loss: 0.1877 - val_acc: 0.9672\n",
      "Epoch 24/25\n",
      "9874/9874 [==============================] - 3s 285us/step - loss: 0.0015 - acc: 0.9995 - val_loss: 0.2050 - val_acc: 0.9695\n",
      "Epoch 25/25\n",
      "9874/9874 [==============================] - 3s 305us/step - loss: 9.7509e-05 - acc: 1.0000 - val_loss: 0.2232 - val_acc: 0.9695\n"
     ]
    },
    {
     "data": {
      "text/plain": [
       "<keras.callbacks.History at 0x1236df5c0>"
      ]
     },
     "execution_count": 64,
     "metadata": {},
     "output_type": "execute_result"
    }
   ],
   "source": [
    "X = reddit.drop('subreddit', axis=1)\n",
    "y = reddit.subreddit.apply(lambda x: 1 if x == 'techsupport' else 0)\n",
    "\n",
    "X_train, X_test, y_train, y_test = train_test_split(X, y, test_size=.3, random_state=42)\n",
    "X_train, X_test, y_train, y_test = NLP(X_train, X_test, y_train, y_test)\n",
    "y_train = np.array(y_train)\n",
    "y_test = np.array(y_test)\n",
    "\n",
    "model = Sequential()\n",
    "model.add(Dense(X_train.shape[1], input_dim=X_train.shape[1], activation='relu'))\n",
    "model.add(Dense(100, activation='relu'))\n",
    "model.add(Dropout(.5))\n",
    "model.add(Dense(50, activation='relu'))\n",
    "model.add(Dense(1, activation='sigmoid'))\n",
    "\n",
    "model.compile(optimizer='adam', loss='binary_crossentropy', metrics=['accuracy'])\n",
    "\n",
    "model.fit(X_train, y_train, validation_data=(X_test, y_test), epochs=25)"
   ]
  },
  {
   "cell_type": "code",
   "execution_count": 88,
   "metadata": {},
   "outputs": [
    {
     "name": "stdout",
     "output_type": "stream",
     "text": [
      "accuracy score 0.969525159461\n",
      "[[1309   65]\n",
      " [  64 2795]]\n",
      "             precision    recall  f1-score   support\n",
      "\n",
      "          0       0.95      0.95      0.95      1374\n",
      "          1       0.98      0.98      0.98      2859\n",
      "\n",
      "avg / total       0.97      0.97      0.97      4233\n",
      "\n"
     ]
    }
   ],
   "source": [
    "pred = model.predict(X_test)\n",
    "pred_tech = []\n",
    "for x in pred:\n",
    "    if x <= .5:\n",
    "        x = 0\n",
    "        pred_tech.append(x)\n",
    "    else:\n",
    "        x = 1\n",
    "        pred_tech.append(x)\n",
    "\n",
    "print('accuracy score', accuracy_score(y_test, pred_tech))        \n",
    "        \n",
    "print (confusion_matrix(y_test, pred_tech))\n",
    "\n",
    "print (classification_report(y_test, pred_tech))"
   ]
  },
  {
   "cell_type": "markdown",
   "metadata": {},
   "source": [
    "The accuracy score is a slight improvement from the Logstics Regression. \n",
    "Logistic Regression was 0.9681 compared to 0.9695 for the Neural Network."
   ]
  },
  {
   "cell_type": "markdown",
   "metadata": {
    "collapsed": true
   },
   "source": [
    "### Programming"
   ]
  },
  {
   "cell_type": "code",
   "execution_count": 89,
   "metadata": {
    "scrolled": true
   },
   "outputs": [
    {
     "name": "stdout",
     "output_type": "stream",
     "text": [
      "Train on 9874 samples, validate on 4233 samples\n",
      "Epoch 1/25\n",
      "9874/9874 [==============================] - 4s 366us/step - loss: 0.2806 - acc: 0.8804 - val_loss: 0.1898 - val_acc: 0.9180\n",
      "Epoch 2/25\n",
      "9874/9874 [==============================] - 3s 324us/step - loss: 0.1421 - acc: 0.9435 - val_loss: 0.1835 - val_acc: 0.9218\n",
      "Epoch 3/25\n",
      "9874/9874 [==============================] - 3s 313us/step - loss: 0.1049 - acc: 0.9593 - val_loss: 0.1941 - val_acc: 0.9187\n",
      "Epoch 4/25\n",
      "9874/9874 [==============================] - 3s 298us/step - loss: 0.0758 - acc: 0.9689 - val_loss: 0.2310 - val_acc: 0.9206\n",
      "Epoch 5/25\n",
      "9874/9874 [==============================] - 3s 303us/step - loss: 0.0537 - acc: 0.9791 - val_loss: 0.2775 - val_acc: 0.9173\n",
      "Epoch 6/25\n",
      "9874/9874 [==============================] - 3s 313us/step - loss: 0.0386 - acc: 0.9858 - val_loss: 0.2906 - val_acc: 0.9161\n",
      "Epoch 7/25\n",
      "9874/9874 [==============================] - 3s 312us/step - loss: 0.0284 - acc: 0.9897 - val_loss: 0.3236 - val_acc: 0.9164\n",
      "Epoch 8/25\n",
      "9874/9874 [==============================] - 3s 300us/step - loss: 0.0223 - acc: 0.9931 - val_loss: 0.3751 - val_acc: 0.9116\n",
      "Epoch 9/25\n",
      "9874/9874 [==============================] - 3s 316us/step - loss: 0.0184 - acc: 0.9942 - val_loss: 0.4074 - val_acc: 0.9180\n",
      "Epoch 10/25\n",
      "9874/9874 [==============================] - 3s 307us/step - loss: 0.0164 - acc: 0.9952 - val_loss: 0.4085 - val_acc: 0.9100\n",
      "Epoch 11/25\n",
      "9874/9874 [==============================] - 3s 343us/step - loss: 0.0144 - acc: 0.9954 - val_loss: 0.4439 - val_acc: 0.9166\n",
      "Epoch 12/25\n",
      "9874/9874 [==============================] - 4s 369us/step - loss: 0.0135 - acc: 0.9952 - val_loss: 0.4009 - val_acc: 0.9161\n",
      "Epoch 13/25\n",
      "9874/9874 [==============================] - 4s 363us/step - loss: 0.0065 - acc: 0.9979 - val_loss: 0.4612 - val_acc: 0.9206\n",
      "Epoch 14/25\n",
      "9874/9874 [==============================] - 4s 366us/step - loss: 0.0080 - acc: 0.9972 - val_loss: 0.4824 - val_acc: 0.9197\n",
      "Epoch 15/25\n",
      "9874/9874 [==============================] - 4s 362us/step - loss: 0.0162 - acc: 0.9956 - val_loss: 0.4165 - val_acc: 0.9185\n",
      "Epoch 16/25\n",
      "9874/9874 [==============================] - 3s 330us/step - loss: 0.0132 - acc: 0.9954 - val_loss: 0.4381 - val_acc: 0.9164\n",
      "Epoch 17/25\n",
      "9874/9874 [==============================] - 3s 312us/step - loss: 0.0051 - acc: 0.9981 - val_loss: 0.4834 - val_acc: 0.9192\n",
      "Epoch 18/25\n",
      "9874/9874 [==============================] - 3s 339us/step - loss: 0.0031 - acc: 0.9989 - val_loss: 0.5083 - val_acc: 0.9180\n",
      "Epoch 19/25\n",
      "9874/9874 [==============================] - 4s 357us/step - loss: 0.0042 - acc: 0.9988 - val_loss: 0.5258 - val_acc: 0.9204\n",
      "Epoch 20/25\n",
      "9874/9874 [==============================] - 4s 366us/step - loss: 0.0042 - acc: 0.9984 - val_loss: 0.5650 - val_acc: 0.9140\n",
      "Epoch 21/25\n",
      "9874/9874 [==============================] - 4s 372us/step - loss: 0.0150 - acc: 0.9953 - val_loss: 0.4016 - val_acc: 0.9190\n",
      "Epoch 22/25\n",
      "9874/9874 [==============================] - 4s 371us/step - loss: 0.0120 - acc: 0.9963 - val_loss: 0.4726 - val_acc: 0.9176\n",
      "Epoch 23/25\n",
      "9874/9874 [==============================] - 4s 360us/step - loss: 0.0035 - acc: 0.9985 - val_loss: 0.5555 - val_acc: 0.9176\n",
      "Epoch 24/25\n",
      "9874/9874 [==============================] - 4s 358us/step - loss: 0.0075 - acc: 0.9976 - val_loss: 0.5445 - val_acc: 0.9185\n",
      "Epoch 25/25\n",
      "9874/9874 [==============================] - 4s 361us/step - loss: 0.0137 - acc: 0.9950 - val_loss: 0.4515 - val_acc: 0.9180\n"
     ]
    },
    {
     "data": {
      "text/plain": [
       "<keras.callbacks.History at 0x11b8c08d0>"
      ]
     },
     "execution_count": 89,
     "metadata": {},
     "output_type": "execute_result"
    }
   ],
   "source": [
    "X = reddit.drop('subreddit', axis=1)\n",
    "y = reddit.subreddit.apply(lambda x: 1 if x == 'programming' else 0)\n",
    "\n",
    "X_train, X_test, y_train, y_test = train_test_split(X, y, test_size=.3, random_state=42)\n",
    "X_train, X_test, y_train, y_test = NLP(X_train, X_test, y_train, y_test)\n",
    "y_train = np.array(y_train)\n",
    "y_test = np.array(y_test)\n",
    "\n",
    "model = Sequential()\n",
    "model.add(Dense(X_train.shape[1], input_dim=X_train.shape[1], activation='relu'))\n",
    "model.add(Dense(100, activation='relu'))\n",
    "model.add(Dropout(.5))\n",
    "model.add(Dense(50, activation='relu'))\n",
    "model.add(Dense(1, activation='sigmoid'))\n",
    "\n",
    "model.compile(optimizer='adam', loss='binary_crossentropy', metrics=['accuracy'])\n",
    "\n",
    "model.fit(X_train, y_train, validation_data=(X_test, y_test), epochs=25)"
   ]
  },
  {
   "cell_type": "code",
   "execution_count": 90,
   "metadata": {},
   "outputs": [
    {
     "name": "stdout",
     "output_type": "stream",
     "text": [
      "accuracy score 0.918025041342\n",
      "[[3267  152]\n",
      " [ 195  619]]\n",
      "             precision    recall  f1-score   support\n",
      "\n",
      "          0       0.94      0.96      0.95      3419\n",
      "          1       0.80      0.76      0.78       814\n",
      "\n",
      "avg / total       0.92      0.92      0.92      4233\n",
      "\n"
     ]
    }
   ],
   "source": [
    "pred = model.predict(X_test)\n",
    "pred_pro = []\n",
    "for x in pred:\n",
    "    if x <= .5:\n",
    "        x = 0\n",
    "        pred_pro.append(x)\n",
    "    else:\n",
    "        x = 1\n",
    "        pred_pro.append(x)\n",
    "\n",
    "print('accuracy score', accuracy_score(y_test, pred_pro))        \n",
    "        \n",
    "print (confusion_matrix(y_test, pred_pro))\n",
    "\n",
    "print (classification_report(y_test, pred_pro))"
   ]
  },
  {
   "cell_type": "markdown",
   "metadata": {},
   "source": [
    "The accuracy score for this neural network almost identical to the score of Logistic regression. Logistic Regression was 0.9149 compared to 0.9180 for the nueral network. "
   ]
  },
  {
   "cell_type": "markdown",
   "metadata": {},
   "source": [
    "### Python"
   ]
  },
  {
   "cell_type": "code",
   "execution_count": 91,
   "metadata": {
    "scrolled": true
   },
   "outputs": [
    {
     "name": "stdout",
     "output_type": "stream",
     "text": [
      "Train on 9874 samples, validate on 4233 samples\n",
      "Epoch 1/25\n",
      "9874/9874 [==============================] - 4s 375us/step - loss: 0.2069 - acc: 0.9175 - val_loss: 0.1644 - val_acc: 0.9279\n",
      "Epoch 2/25\n",
      "9874/9874 [==============================] - 3s 320us/step - loss: 0.1129 - acc: 0.9548 - val_loss: 0.1495 - val_acc: 0.9343\n",
      "Epoch 3/25\n",
      "9874/9874 [==============================] - 3s 301us/step - loss: 0.0840 - acc: 0.9659 - val_loss: 0.1584 - val_acc: 0.9360\n",
      "Epoch 4/25\n",
      "9874/9874 [==============================] - 3s 319us/step - loss: 0.0605 - acc: 0.9759 - val_loss: 0.1925 - val_acc: 0.9372\n",
      "Epoch 5/25\n",
      "9874/9874 [==============================] - 3s 304us/step - loss: 0.0420 - acc: 0.9839 - val_loss: 0.2245 - val_acc: 0.9317\n",
      "Epoch 6/25\n",
      "9874/9874 [==============================] - 3s 326us/step - loss: 0.0278 - acc: 0.9902 - val_loss: 0.2888 - val_acc: 0.9324\n",
      "Epoch 7/25\n",
      "9874/9874 [==============================] - 3s 336us/step - loss: 0.0194 - acc: 0.9943 - val_loss: 0.3080 - val_acc: 0.9350\n",
      "Epoch 8/25\n",
      "9874/9874 [==============================] - 3s 288us/step - loss: 0.0198 - acc: 0.9936 - val_loss: 0.3392 - val_acc: 0.9327\n",
      "Epoch 9/25\n",
      "9874/9874 [==============================] - 3s 277us/step - loss: 0.0171 - acc: 0.9946 - val_loss: 0.3442 - val_acc: 0.9282\n",
      "Epoch 10/25\n",
      "9874/9874 [==============================] - 3s 302us/step - loss: 0.0123 - acc: 0.9965 - val_loss: 0.3497 - val_acc: 0.9301\n",
      "Epoch 11/25\n",
      "9874/9874 [==============================] - 3s 306us/step - loss: 0.0063 - acc: 0.9986 - val_loss: 0.3833 - val_acc: 0.9310\n",
      "Epoch 12/25\n",
      "9874/9874 [==============================] - 3s 301us/step - loss: 0.0075 - acc: 0.9982 - val_loss: 0.3817 - val_acc: 0.9334\n",
      "Epoch 13/25\n",
      "9874/9874 [==============================] - 3s 301us/step - loss: 0.0093 - acc: 0.9971 - val_loss: 0.3544 - val_acc: 0.9324\n",
      "Epoch 14/25\n",
      "9874/9874 [==============================] - 3s 330us/step - loss: 0.0107 - acc: 0.9971 - val_loss: 0.3710 - val_acc: 0.9322\n",
      "Epoch 15/25\n",
      "9874/9874 [==============================] - 3s 312us/step - loss: 0.0116 - acc: 0.9970 - val_loss: 0.3444 - val_acc: 0.9327\n",
      "Epoch 16/25\n",
      "9874/9874 [==============================] - 3s 299us/step - loss: 0.0088 - acc: 0.9977 - val_loss: 0.3776 - val_acc: 0.9310\n",
      "Epoch 17/25\n",
      "9874/9874 [==============================] - 3s 316us/step - loss: 0.0055 - acc: 0.9986 - val_loss: 0.4093 - val_acc: 0.9360\n",
      "Epoch 18/25\n",
      "9874/9874 [==============================] - 3s 299us/step - loss: 0.0044 - acc: 0.9993 - val_loss: 0.4605 - val_acc: 0.9279\n",
      "Epoch 19/25\n",
      "9874/9874 [==============================] - 3s 311us/step - loss: 0.0084 - acc: 0.9983 - val_loss: 0.4296 - val_acc: 0.9305\n",
      "Epoch 20/25\n",
      "9874/9874 [==============================] - 3s 316us/step - loss: 0.0100 - acc: 0.9972 - val_loss: 0.3963 - val_acc: 0.9272\n",
      "Epoch 21/25\n",
      "9874/9874 [==============================] - 3s 306us/step - loss: 0.0107 - acc: 0.9968 - val_loss: 0.3912 - val_acc: 0.9362\n",
      "Epoch 22/25\n",
      "9874/9874 [==============================] - 3s 284us/step - loss: 0.0086 - acc: 0.9972 - val_loss: 0.3550 - val_acc: 0.9301\n",
      "Epoch 23/25\n",
      "9874/9874 [==============================] - 3s 302us/step - loss: 0.0057 - acc: 0.9988 - val_loss: 0.3816 - val_acc: 0.9327\n",
      "Epoch 24/25\n",
      "9874/9874 [==============================] - 3s 307us/step - loss: 0.0033 - acc: 0.9994 - val_loss: 0.4354 - val_acc: 0.9331\n",
      "Epoch 25/25\n",
      "9874/9874 [==============================] - 3s 310us/step - loss: 0.0030 - acc: 0.9992 - val_loss: 0.4842 - val_acc: 0.9339\n"
     ]
    },
    {
     "data": {
      "text/plain": [
       "<keras.callbacks.History at 0x120066198>"
      ]
     },
     "execution_count": 91,
     "metadata": {},
     "output_type": "execute_result"
    }
   ],
   "source": [
    "X = reddit.drop('subreddit', axis=1)\n",
    "y = reddit.subreddit.apply(lambda x: 1 if x == 'python' else 0)\n",
    "\n",
    "X_train, X_test, y_train, y_test = train_test_split(X, y, test_size=.3, random_state=42)\n",
    "X_train, X_test, y_train, y_test = NLP(X_train, X_test, y_train, y_test)\n",
    "y_train = np.array(y_train)\n",
    "y_test = np.array(y_test)\n",
    "\n",
    "model = Sequential()\n",
    "model.add(Dense(X_train.shape[1], input_dim=X_train.shape[1], activation='relu'))\n",
    "model.add(Dense(100, activation='relu'))\n",
    "model.add(Dropout(.5))\n",
    "model.add(Dense(50, activation='relu'))\n",
    "model.add(Dense(1, activation='sigmoid'))\n",
    "\n",
    "model.compile(optimizer='adam', loss='binary_crossentropy', metrics=['accuracy'])\n",
    "\n",
    "model.fit(X_train, y_train, validation_data=(X_test, y_test), epochs=25)"
   ]
  },
  {
   "cell_type": "code",
   "execution_count": 92,
   "metadata": {},
   "outputs": [
    {
     "name": "stdout",
     "output_type": "stream",
     "text": [
      "accuracy score 0.933853059296\n",
      "[[3545  128]\n",
      " [ 152  408]]\n",
      "             precision    recall  f1-score   support\n",
      "\n",
      "          0       0.96      0.97      0.96      3673\n",
      "          1       0.76      0.73      0.74       560\n",
      "\n",
      "avg / total       0.93      0.93      0.93      4233\n",
      "\n"
     ]
    }
   ],
   "source": [
    "pred = model.predict(X_test)\n",
    "pred_py = []\n",
    "for x in pred:\n",
    "    if x <= .5:\n",
    "        x = 0\n",
    "        pred_py.append(x)\n",
    "    else:\n",
    "        x = 1\n",
    "        pred_py.append(x)\n",
    "\n",
    "print('accuracy score', accuracy_score(y_test, pred_py))        \n",
    "        \n",
    "print (confusion_matrix(y_test, pred_py))\n",
    "\n",
    "print (classification_report(y_test, pred_py))"
   ]
  },
  {
   "cell_type": "markdown",
   "metadata": {},
   "source": [
    "Predicting if the subreddit was in the python category had the biggest difference in using a logistic regression model and the neural network. The Logistic Regression Score was 0.9286 and the neural network improved that score to 0.9338. "
   ]
  },
  {
   "cell_type": "markdown",
   "metadata": {},
   "source": [
    "### Neural Network predicting all three classes together"
   ]
  },
  {
   "cell_type": "code",
   "execution_count": 99,
   "metadata": {
    "scrolled": false
   },
   "outputs": [
    {
     "data": {
      "text/plain": [
       "((9874, 500), (9874, 3))"
      ]
     },
     "execution_count": 99,
     "metadata": {},
     "output_type": "execute_result"
    }
   ],
   "source": [
    "X = reddit.drop('subreddit', axis=1)\n",
    "y = pd.DataFrame(reddit.subreddit.apply(lambda x: 2 if x == 'techsupport' else (1 if x =='programming' else 0)))\n",
    "\n",
    "X_train, X_test, y_train, y_test = train_test_split(X, y, test_size=.3, random_state=42)\n",
    "X_train, X_test, y_train, y_test_ = NLP(X_train, X_test, y_train, y_test)\n",
    "\n",
    "\n",
    "y_train = to_categorical(y_train)\n",
    "y_test = to_categorical(y_test_)\n",
    "\n",
    "X_train.shape, y_train.shape"
   ]
  },
  {
   "cell_type": "code",
   "execution_count": 100,
   "metadata": {
    "scrolled": true
   },
   "outputs": [
    {
     "name": "stdout",
     "output_type": "stream",
     "text": [
      "Train on 9874 samples, validate on 4233 samples\n",
      "Epoch 1/30\n",
      "9874/9874 [==============================] - 2s 187us/step - loss: 0.5899 - acc: 0.7498 - val_loss: 0.2718 - val_acc: 0.8868\n",
      "Epoch 2/30\n",
      "9874/9874 [==============================] - 1s 120us/step - loss: 0.2333 - acc: 0.9031 - val_loss: 0.2054 - val_acc: 0.9194\n",
      "Epoch 3/30\n",
      "9874/9874 [==============================] - 1s 120us/step - loss: 0.1782 - acc: 0.9307 - val_loss: 0.1960 - val_acc: 0.9223\n",
      "Epoch 4/30\n",
      "9874/9874 [==============================] - 1s 122us/step - loss: 0.1560 - acc: 0.9375 - val_loss: 0.1991 - val_acc: 0.9235\n",
      "Epoch 5/30\n",
      "9874/9874 [==============================] - 1s 124us/step - loss: 0.1426 - acc: 0.9455 - val_loss: 0.1992 - val_acc: 0.9206\n",
      "Epoch 6/30\n",
      "9874/9874 [==============================] - 1s 120us/step - loss: 0.1236 - acc: 0.9519 - val_loss: 0.1995 - val_acc: 0.9242\n",
      "Epoch 7/30\n",
      "9874/9874 [==============================] - 1s 134us/step - loss: 0.1157 - acc: 0.9555 - val_loss: 0.2113 - val_acc: 0.9190\n",
      "Epoch 8/30\n",
      "9874/9874 [==============================] - 1s 131us/step - loss: 0.1033 - acc: 0.9591 - val_loss: 0.2134 - val_acc: 0.9230\n",
      "Epoch 9/30\n",
      "9874/9874 [==============================] - 1s 129us/step - loss: 0.0954 - acc: 0.9635 - val_loss: 0.2176 - val_acc: 0.9244\n",
      "Epoch 10/30\n",
      "9874/9874 [==============================] - 1s 120us/step - loss: 0.0836 - acc: 0.9695 - val_loss: 0.2333 - val_acc: 0.9206\n",
      "Epoch 11/30\n",
      "9874/9874 [==============================] - 1s 134us/step - loss: 0.0750 - acc: 0.9708 - val_loss: 0.2460 - val_acc: 0.9192\n",
      "Epoch 12/30\n",
      "9874/9874 [==============================] - 1s 132us/step - loss: 0.0695 - acc: 0.9740 - val_loss: 0.2488 - val_acc: 0.9183\n",
      "Epoch 13/30\n",
      "9874/9874 [==============================] - 2s 152us/step - loss: 0.0634 - acc: 0.9768 - val_loss: 0.2527 - val_acc: 0.9218\n",
      "Epoch 14/30\n",
      "9874/9874 [==============================] - 1s 131us/step - loss: 0.0598 - acc: 0.9781 - val_loss: 0.2588 - val_acc: 0.9206\n",
      "Epoch 15/30\n",
      "9874/9874 [==============================] - 1s 140us/step - loss: 0.0518 - acc: 0.9826 - val_loss: 0.2800 - val_acc: 0.9187\n",
      "Epoch 16/30\n",
      "9874/9874 [==============================] - 1s 135us/step - loss: 0.0519 - acc: 0.9816 - val_loss: 0.2795 - val_acc: 0.9194\n",
      "Epoch 17/30\n",
      "9874/9874 [==============================] - 1s 124us/step - loss: 0.0473 - acc: 0.9848 - val_loss: 0.2778 - val_acc: 0.9202\n",
      "Epoch 18/30\n",
      "9874/9874 [==============================] - 1s 125us/step - loss: 0.0379 - acc: 0.9871 - val_loss: 0.2928 - val_acc: 0.9227\n",
      "Epoch 19/30\n",
      "9874/9874 [==============================] - 1s 129us/step - loss: 0.0380 - acc: 0.9855 - val_loss: 0.3129 - val_acc: 0.9190\n",
      "Epoch 20/30\n",
      "9874/9874 [==============================] - 1s 126us/step - loss: 0.0375 - acc: 0.9872 - val_loss: 0.3067 - val_acc: 0.9239\n",
      "Epoch 21/30\n",
      "9874/9874 [==============================] - 1s 124us/step - loss: 0.0369 - acc: 0.9862 - val_loss: 0.3198 - val_acc: 0.9202\n",
      "Epoch 22/30\n",
      "9874/9874 [==============================] - 1s 118us/step - loss: 0.0298 - acc: 0.9896 - val_loss: 0.3405 - val_acc: 0.9168\n",
      "Epoch 23/30\n",
      "9874/9874 [==============================] - 1s 119us/step - loss: 0.0312 - acc: 0.9887 - val_loss: 0.3430 - val_acc: 0.9194\n",
      "Epoch 24/30\n",
      "9874/9874 [==============================] - 1s 118us/step - loss: 0.0325 - acc: 0.9861 - val_loss: 0.3386 - val_acc: 0.9192\n",
      "Epoch 25/30\n",
      "9874/9874 [==============================] - 1s 127us/step - loss: 0.0311 - acc: 0.9884 - val_loss: 0.3461 - val_acc: 0.9190\n",
      "Epoch 26/30\n",
      "9874/9874 [==============================] - 1s 126us/step - loss: 0.0300 - acc: 0.9892 - val_loss: 0.3530 - val_acc: 0.9194\n",
      "Epoch 27/30\n",
      "9874/9874 [==============================] - 1s 122us/step - loss: 0.0267 - acc: 0.9912 - val_loss: 0.3769 - val_acc: 0.9171\n",
      "Epoch 28/30\n",
      "9874/9874 [==============================] - 1s 150us/step - loss: 0.0275 - acc: 0.9907 - val_loss: 0.3732 - val_acc: 0.9171\n",
      "Epoch 29/30\n",
      "9874/9874 [==============================] - 1s 147us/step - loss: 0.0250 - acc: 0.9916 - val_loss: 0.3857 - val_acc: 0.9190\n",
      "Epoch 30/30\n",
      "9874/9874 [==============================] - 1s 130us/step - loss: 0.0247 - acc: 0.9915 - val_loss: 0.4081 - val_acc: 0.9168\n"
     ]
    },
    {
     "data": {
      "text/plain": [
       "<keras.callbacks.History at 0x11ce72f60>"
      ]
     },
     "execution_count": 100,
     "metadata": {},
     "output_type": "execute_result"
    }
   ],
   "source": [
    "model = Sequential()\n",
    "model.add(Dense(100, input_shape=(X_train.shape[1],), activation='relu'))\n",
    "model.add(Dropout(.5))\n",
    "model.add(Dense(30, activation='relu'))\n",
    "model.add(Dense(y_train.shape[1], activation='softmax'))\n",
    "\n",
    "model.compile(optimizer='adam', loss='categorical_crossentropy', metrics=['accuracy'])\n",
    "\n",
    "model.fit(X_train, y_train, validation_data=(X_test, y_test), epochs=30)"
   ]
  },
  {
   "cell_type": "code",
   "execution_count": 115,
   "metadata": {
    "collapsed": true
   },
   "outputs": [],
   "source": [
    "pred_tot = model.predict_classes(X_test)"
   ]
  },
  {
   "cell_type": "code",
   "execution_count": 116,
   "metadata": {
    "scrolled": true
   },
   "outputs": [],
   "source": [
    "y_test_ = np.array(y_test_)"
   ]
  },
  {
   "cell_type": "code",
   "execution_count": 117,
   "metadata": {},
   "outputs": [
    {
     "data": {
      "text/plain": [
       "array([2, 2, 1, ..., 2, 2, 2])"
      ]
     },
     "execution_count": 117,
     "metadata": {},
     "output_type": "execute_result"
    }
   ],
   "source": [
    "y_test_"
   ]
  },
  {
   "cell_type": "code",
   "execution_count": 118,
   "metadata": {
    "scrolled": true
   },
   "outputs": [
    {
     "data": {
      "text/plain": [
       "array([2, 2, 1, ..., 2, 2, 2])"
      ]
     },
     "execution_count": 118,
     "metadata": {},
     "output_type": "execute_result"
    }
   ],
   "source": [
    "pred_tot"
   ]
  },
  {
   "cell_type": "code",
   "execution_count": 119,
   "metadata": {},
   "outputs": [
    {
     "name": "stdout",
     "output_type": "stream",
     "text": [
      "accuracy score 0.916843845972\n",
      "[[ 376  170   14]\n",
      " [  67  701   46]\n",
      " [   7   48 2804]]\n",
      "             precision    recall  f1-score   support\n",
      "\n",
      "          0       0.84      0.67      0.74       560\n",
      "          1       0.76      0.86      0.81       814\n",
      "          2       0.98      0.98      0.98      2859\n",
      "\n",
      "avg / total       0.92      0.92      0.92      4233\n",
      "\n"
     ]
    }
   ],
   "source": [
    "print('accuracy score', accuracy_score(y_test_, pred_tot))        \n",
    "        \n",
    "print (confusion_matrix(y_test_, pred_tot))\n",
    "\n",
    "print (classification_report(y_test_, pred_tot))"
   ]
  },
  {
   "cell_type": "markdown",
   "metadata": {},
   "source": [
    "In general the neural networks improved on the logistic regression, but not by a significant amount."
   ]
  }
 ],
 "metadata": {
  "kernelspec": {
   "display_name": "Python 3",
   "language": "python",
   "name": "python3"
  },
  "language_info": {
   "codemirror_mode": {
    "name": "ipython",
    "version": 3
   },
   "file_extension": ".py",
   "mimetype": "text/x-python",
   "name": "python",
   "nbconvert_exporter": "python",
   "pygments_lexer": "ipython3",
   "version": "3.6.1"
  }
 },
 "nbformat": 4,
 "nbformat_minor": 2
}
