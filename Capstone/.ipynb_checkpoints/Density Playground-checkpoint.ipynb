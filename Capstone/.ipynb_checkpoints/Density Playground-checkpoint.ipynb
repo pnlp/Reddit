{
 "cells": [
  {
   "cell_type": "markdown",
   "metadata": {},
   "source": [
    "# Density Data Cleaning"
   ]
  },
  {
   "cell_type": "code",
   "execution_count": 1,
   "metadata": {
    "collapsed": true
   },
   "outputs": [],
   "source": [
    "import pandas as pd"
   ]
  },
  {
   "cell_type": "code",
   "execution_count": 2,
   "metadata": {},
   "outputs": [],
   "source": [
    "area = pd.read_csv('./urban_area.csv', encoding = \"ISO-8859-1\")"
   ]
  },
  {
   "cell_type": "code",
   "execution_count": 3,
   "metadata": {},
   "outputs": [],
   "source": [
    "# drop empty rows and columns \n",
    "\n",
    "area = area.drop([0,1], axis=0).reset_index().drop('index', axis=1)"
   ]
  },
  {
   "cell_type": "code",
   "execution_count": 4,
   "metadata": {},
   "outputs": [],
   "source": [
    "# drop Alaska from data set because of voter districs irregularity\n",
    "\n",
    "area = area[area.state != 'Alaska']"
   ]
  },
  {
   "cell_type": "code",
   "execution_count": 5,
   "metadata": {
    "collapsed": true
   },
   "outputs": [],
   "source": [
    "def replace(df):\n",
    "    '''Function to replace every state name in dataset with it's abbreviation'''\n",
    "    \n",
    "    df.state = df.state.replace('Alabama', 'AL').replace('Arizona', 'AZ').replace('Arkansas', 'AR')\n",
    "    df.state = df.state.replace('California', 'CA').replace('Colorado', 'CO').replace('Connecticut', 'CT')\n",
    "    df.state = df.state.replace('Delaware', 'DE').replace('Hawaii', 'HI').replace('Idaho', 'ID')\n",
    "    df.state = df.state.replace('Illinois', 'IL').replace('Indiana', 'IN').replace('Iowa', 'IA')\n",
    "    df.state = df.state.replace('Kansas', 'KS').replace('Kentucky', 'KY').replace('Louisiana', 'LA')\n",
    "    df.state = df.state.replace('Maine', 'ME').replace('Maryland', 'MD').replace('Massachusetts', 'MA')\n",
    "    df.state = df.state.replace('Michigan', 'MI').replace('Minnesota', 'MN').replace('Mississippi', 'MS')\n",
    "    df.state = df.state.replace('Missouri', 'MO').replace('Montana', 'MT').replace('Nebraska', 'NE')\n",
    "    df.state = df.state.replace('Nevada', 'NV').replace('New Hampshire','NH').replace('New Jersey', 'NJ')\n",
    "    df.state = df.state.replace('New Mexico', 'NM').replace('New York', 'NY').replace('North Carolina','NC')\n",
    "    df.state = df.state.replace('North Dakota', 'ND').replace('Ohio', 'OH').replace('Oklahoma', 'OK')\n",
    "    df.state = df.state.replace('Oregon', 'OR').replace('Pennsylvania', 'PA').replace('Rhode Island', 'RI')\n",
    "    df.state = df.state.replace('South Carolina', 'SC').replace('South Dakota', 'SD').replace('Tennessee', 'TN')\n",
    "    df.state = df.state.replace('Texas', 'TX').replace('Utah', 'UT').replace('Vermont', 'VT')\n",
    "    df.state = df.state.replace('Virginia', 'VA').replace('Washington', 'WA').replace('West Virginia', 'WV')\n",
    "    df.state = df.state.replace('Wisconsin', 'WI').replace('Wyoming', 'WY')\n",
    "    return df"
   ]
  },
  {
   "cell_type": "code",
   "execution_count": 6,
   "metadata": {
    "collapsed": true
   },
   "outputs": [],
   "source": [
    "# call function, and combine county name with state slug\n",
    "\n",
    "area = replace(area)\n",
    "\n",
    "area.county = area.county + ', ' + area.state\n",
    "\n",
    "area.drop('state', axis=1, inplace=True)"
   ]
  },
  {
   "cell_type": "code",
   "execution_count": 7,
   "metadata": {
    "collapsed": true
   },
   "outputs": [],
   "source": [
    "area.to_csv('./area')"
   ]
  }
 ],
 "metadata": {
  "kernelspec": {
   "display_name": "Python 3",
   "language": "python",
   "name": "python3"
  },
  "language_info": {
   "codemirror_mode": {
    "name": "ipython",
    "version": 3
   },
   "file_extension": ".py",
   "mimetype": "text/x-python",
   "name": "python",
   "nbconvert_exporter": "python",
   "pygments_lexer": "ipython3",
   "version": "3.6.1"
  }
 },
 "nbformat": 4,
 "nbformat_minor": 2
}
