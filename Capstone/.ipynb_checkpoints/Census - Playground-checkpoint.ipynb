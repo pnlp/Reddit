{
 "cells": [
  {
   "cell_type": "markdown",
   "metadata": {},
   "source": [
    "# Census Data from 2000 and 2010 Cleaning"
   ]
  },
  {
   "cell_type": "code",
   "execution_count": 14,
   "metadata": {
    "collapsed": true
   },
   "outputs": [],
   "source": [
    "import pandas as pd"
   ]
  },
  {
   "cell_type": "code",
   "execution_count": 15,
   "metadata": {
    "collapsed": true
   },
   "outputs": [],
   "source": [
    "pd.set_option(\"display.max_rows\", 999)"
   ]
  },
  {
   "cell_type": "code",
   "execution_count": 16,
   "metadata": {},
   "outputs": [],
   "source": [
    "# Load in data from excel turned csv files\n",
    "\n",
    "pop_2000 = pd.read_csv('./census_2000.csv', encoding = \"ISO-8859-1\")\n",
    "pop_2010 = pd.read_csv('./census_2010.csv', encoding = \"ISO-8859-1\")"
   ]
  },
  {
   "cell_type": "code",
   "execution_count": 17,
   "metadata": {},
   "outputs": [],
   "source": [
    "# drop empty rows and columns \n",
    "\n",
    "pop_2000 = pop_2000.drop([0,1], axis=0).reset_index().drop('index', axis=1)\n",
    "\n",
    "pop_2010 = pop_2010.drop([0,1], axis=0).reset_index().drop(['index', 'Unnamed: 3', 'Unnamed: 4', 'Unnamed: 4', 'Unnamed: 5'], axis=1)"
   ]
  },
  {
   "cell_type": "code",
   "execution_count": 19,
   "metadata": {},
   "outputs": [],
   "source": [
    "# rename columns to be lower case\n",
    "\n",
    "pop_2000.columns = [x.lower() for x in pop_2000.columns]\n",
    "pop_2010.columns = [x.lower() for x in pop_2010.columns]"
   ]
  },
  {
   "cell_type": "code",
   "execution_count": 5,
   "metadata": {},
   "outputs": [],
   "source": [
    "# drop Alaska from data set because of voter districs irregularity\n",
    "\n",
    "pop_2000 = pop_2000[pop_2000.state != 'Alaska']\n",
    "pop_2010 = pop_2010[pop_2010.state != 'Alaska']"
   ]
  },
  {
   "cell_type": "code",
   "execution_count": 7,
   "metadata": {},
   "outputs": [],
   "source": [
    "# remove the word county from every county in the column county, so what is left is the name of the county\n",
    "\n",
    "pop_2000.county = pop_2000.county.map(lambda x: str(x)[:-7])\n",
    "pop_2010.county = pop_2010.county.map(lambda x: str(x)[:-7])"
   ]
  },
  {
   "cell_type": "code",
   "execution_count": 8,
   "metadata": {},
   "outputs": [],
   "source": [
    "def replace(df):\n",
    "    '''Function to replace every state name in dataset with it's abbreviation'''\n",
    "    \n",
    "    df.state = df.state.replace('Alabama', 'AL').replace('Arizona', 'AZ').replace('Arkansas', 'AR')\n",
    "    df.state = df.state.replace('California', 'CA').replace('Colorado', 'CO').replace('Connecticut', 'CT')\n",
    "    df.state = df.state.replace('Delaware', 'DE').replace('Hawaii', 'HI').replace('Idaho', 'ID')\n",
    "    df.state = df.state.replace('Illinois', 'IL').replace('Indiana', 'IN').replace('Iowa', 'IA')\n",
    "    df.state = df.state.replace('Kansas', 'KS').replace('Kentucky', 'KY').replace('Louisiana', 'LA')\n",
    "    df.state = df.state.replace('Maine', 'ME').replace('Maryland', 'MD').replace('Massachusetts', 'MA')\n",
    "    df.state = df.state.replace('Michigan', 'MI').replace('Minnesota', 'MN').replace('Mississippi', 'MS')\n",
    "    df.state = df.state.replace('Missouri', 'MO').replace('Montana', 'MT').replace('Nebraska', 'NE')\n",
    "    df.state = df.state.replace('Nevada', 'NV').replace('New Hampshire','NH').replace('New Jersey', 'NJ')\n",
    "    df.state = df.state.replace('New Mexico', 'NM').replace('New York', 'NY').replace('North Carolina','NC')\n",
    "    df.state = df.state.replace('North Dakota', 'ND').replace('Ohio', 'OH').replace('Oklahoma', 'OK')\n",
    "    df.state = df.state.replace('Oregon', 'OR').replace('Pennsylvania', 'PA').replace('Rhode Island', 'RI')\n",
    "    df.state = df.state.replace('South Carolina', 'SC').replace('South Dakota', 'SD').replace('Tennessee', 'TN')\n",
    "    df.state = df.state.replace('Texas', 'TX').replace('Utah', 'UT').replace('Vermont', 'VT')\n",
    "    df.state = df.state.replace('Virginia', 'VA').replace('Washington', 'WA').replace('West Virginia', 'WV')\n",
    "    df.state = df.state.replace('Wisconsin', 'WI').replace('Wyoming', 'WY')\n",
    "    return df"
   ]
  },
  {
   "cell_type": "code",
   "execution_count": 9,
   "metadata": {},
   "outputs": [],
   "source": [
    "# call function, and combine county name with state slug\n",
    "\n",
    "pop_2000 = replace(pop_2000)\n",
    "\n",
    "pop_2000.county = pop_2000.county + ', ' + pop_2000.state\n",
    "\n",
    "pop_2000.drop('state', axis=1, inplace=True)"
   ]
  },
  {
   "cell_type": "code",
   "execution_count": 11,
   "metadata": {
    "collapsed": true
   },
   "outputs": [],
   "source": [
    "# call function, and combine county name with state slug\n",
    "\n",
    "pop_2010 = replace(pop_2010)\n",
    "\n",
    "pop_2010.county = pop_2010.county + ', ' + pop_2010.state\n",
    "\n",
    "pop_2010.drop('state', axis=1, inplace=True)"
   ]
  },
  {
   "cell_type": "code",
   "execution_count": 12,
   "metadata": {
    "collapsed": true
   },
   "outputs": [],
   "source": [
    "pop_2000.to_csv('./pop_2000')\n",
    "\n",
    "pop_2010.to_csv('./pop_2010')"
   ]
  }
 ],
 "metadata": {
  "kernelspec": {
   "display_name": "Python 3",
   "language": "python",
   "name": "python3"
  },
  "language_info": {
   "codemirror_mode": {
    "name": "ipython",
    "version": 3
   },
   "file_extension": ".py",
   "mimetype": "text/x-python",
   "name": "python",
   "nbconvert_exporter": "python",
   "pygments_lexer": "ipython3",
   "version": "3.6.1"
  }
 },
 "nbformat": 4,
 "nbformat_minor": 2
}
