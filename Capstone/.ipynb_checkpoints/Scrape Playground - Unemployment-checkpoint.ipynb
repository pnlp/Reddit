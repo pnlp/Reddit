{
 "cells": [
  {
   "cell_type": "code",
   "execution_count": 96,
   "metadata": {
    "collapsed": true
   },
   "outputs": [],
   "source": [
    "import pandas as pd\n",
    "import re"
   ]
  },
  {
   "cell_type": "code",
   "execution_count": 19,
   "metadata": {
    "collapsed": true
   },
   "outputs": [],
   "source": [
    "ur = pd.read_csv('./Unemployment.csv')"
   ]
  },
  {
   "cell_type": "code",
   "execution_count": 23,
   "metadata": {},
   "outputs": [
    {
     "data": {
      "text/html": [
       "<div>\n",
       "<style>\n",
       "    .dataframe thead tr:only-child th {\n",
       "        text-align: right;\n",
       "    }\n",
       "\n",
       "    .dataframe thead th {\n",
       "        text-align: left;\n",
       "    }\n",
       "\n",
       "    .dataframe tbody tr th {\n",
       "        vertical-align: top;\n",
       "    }\n",
       "</style>\n",
       "<table border=\"1\" class=\"dataframe\">\n",
       "  <thead>\n",
       "    <tr style=\"text-align: right;\">\n",
       "      <th></th>\n",
       "      <th>Year</th>\n",
       "      <th>Month</th>\n",
       "      <th>State</th>\n",
       "      <th>County</th>\n",
       "      <th>Rate</th>\n",
       "    </tr>\n",
       "  </thead>\n",
       "  <tbody>\n",
       "    <tr>\n",
       "      <th>0</th>\n",
       "      <td>2015</td>\n",
       "      <td>February</td>\n",
       "      <td>Mississippi</td>\n",
       "      <td>Newton County</td>\n",
       "      <td>6.1</td>\n",
       "    </tr>\n",
       "    <tr>\n",
       "      <th>1</th>\n",
       "      <td>2015</td>\n",
       "      <td>February</td>\n",
       "      <td>Mississippi</td>\n",
       "      <td>Panola County</td>\n",
       "      <td>9.4</td>\n",
       "    </tr>\n",
       "    <tr>\n",
       "      <th>2</th>\n",
       "      <td>2015</td>\n",
       "      <td>February</td>\n",
       "      <td>Mississippi</td>\n",
       "      <td>Monroe County</td>\n",
       "      <td>7.9</td>\n",
       "    </tr>\n",
       "    <tr>\n",
       "      <th>3</th>\n",
       "      <td>2015</td>\n",
       "      <td>February</td>\n",
       "      <td>Mississippi</td>\n",
       "      <td>Hinds County</td>\n",
       "      <td>6.1</td>\n",
       "    </tr>\n",
       "    <tr>\n",
       "      <th>4</th>\n",
       "      <td>2015</td>\n",
       "      <td>February</td>\n",
       "      <td>Mississippi</td>\n",
       "      <td>Kemper County</td>\n",
       "      <td>10.6</td>\n",
       "    </tr>\n",
       "  </tbody>\n",
       "</table>\n",
       "</div>"
      ],
      "text/plain": [
       "   Year     Month        State         County  Rate\n",
       "0  2015  February  Mississippi  Newton County   6.1\n",
       "1  2015  February  Mississippi  Panola County   9.4\n",
       "2  2015  February  Mississippi  Monroe County   7.9\n",
       "3  2015  February  Mississippi   Hinds County   6.1\n",
       "4  2015  February  Mississippi  Kemper County  10.6"
      ]
     },
     "execution_count": 23,
     "metadata": {},
     "output_type": "execute_result"
    }
   ],
   "source": [
    "ur.head()"
   ]
  },
  {
   "cell_type": "code",
   "execution_count": 25,
   "metadata": {},
   "outputs": [],
   "source": [
    "ur.columns = [x.lower() for x in ur.columns]"
   ]
  },
  {
   "cell_type": "code",
   "execution_count": 22,
   "metadata": {
    "scrolled": true
   },
   "outputs": [
    {
     "data": {
      "text/plain": [
       "(885548, 5)"
      ]
     },
     "execution_count": 22,
     "metadata": {},
     "output_type": "execute_result"
    }
   ],
   "source": [
    "ur.shape"
   ]
  },
  {
   "cell_type": "code",
   "execution_count": 165,
   "metadata": {
    "scrolled": false
   },
   "outputs": [
    {
     "name": "stderr",
     "output_type": "stream",
     "text": [
      "/Users/Penelope/anaconda3/lib/python3.6/site-packages/ipykernel_launcher.py:1: UserWarning: Boolean Series key will be reindexed to match DataFrame index.\n",
      "  \"\"\"Entry point for launching an IPython kernel.\n",
      "/Users/Penelope/anaconda3/lib/python3.6/site-packages/ipykernel_launcher.py:2: UserWarning: Boolean Series key will be reindexed to match DataFrame index.\n",
      "  \n",
      "/Users/Penelope/anaconda3/lib/python3.6/site-packages/ipykernel_launcher.py:3: UserWarning: Boolean Series key will be reindexed to match DataFrame index.\n",
      "  This is separate from the ipykernel package so we can avoid doing imports until\n",
      "/Users/Penelope/anaconda3/lib/python3.6/site-packages/ipykernel_launcher.py:4: UserWarning: Boolean Series key will be reindexed to match DataFrame index.\n",
      "  after removing the cwd from sys.path.\n"
     ]
    }
   ],
   "source": [
    "ur_2004 = ur[ur.year == 2004][ur.month == 'November'][ur.state != 'Alaska'].reset_index().drop('index', axis=1)\n",
    "ur_2008 = ur[ur.year == 2008][ur.month == 'November'][ur.state != 'Alaska'].reset_index().drop('index', axis=1)\n",
    "ur_2012 = ur[ur.year == 2012][ur.month == 'November'][ur.state != 'Alaska'].reset_index().drop('index', axis=1)\n",
    "ur_2016 = ur[ur.year == 2016][ur.month == 'November'][ur.state != 'Alaska'].reset_index().drop('index', axis=1)"
   ]
  },
  {
   "cell_type": "code",
   "execution_count": 166,
   "metadata": {},
   "outputs": [],
   "source": [
    "ur_2004.county = ur_2004.county.map(lambda x: str(x)[:-7])\n",
    "ur_2008.county = ur_2008.county.map(lambda x: str(x)[:-7])\n",
    "ur_2012.county = ur_2012.county.map(lambda x: str(x)[:-7])\n",
    "ur_2016.county = ur_2016.county.map(lambda x: str(x)[:-7])"
   ]
  },
  {
   "cell_type": "code",
   "execution_count": 167,
   "metadata": {},
   "outputs": [
    {
     "data": {
      "text/plain": [
       "((2631, 5), (2351, 5), (2827, 5), (2821, 5))"
      ]
     },
     "execution_count": 167,
     "metadata": {},
     "output_type": "execute_result"
    }
   ],
   "source": [
    "ur_2004.shape, ur_2008.shape, ur_2012.shape, ur_2016.shape"
   ]
  },
  {
   "cell_type": "code",
   "execution_count": 168,
   "metadata": {},
   "outputs": [],
   "source": [
    "def replace(df):\n",
    "    df.state = df.state.replace('Alabama', 'AL').replace('Arizona', 'AZ').replace('Arkansas', 'AR')\n",
    "    df.state = df.state.replace('California', 'CA').replace('Colorado', 'CO').replace('Connecticut', 'CT')\n",
    "    df.state = df.state.replace('Delaware', 'DE').replace('Hawaii', 'HI').replace('Idaho', 'ID')\n",
    "    df.state = df.state.replace('Illinois', 'IL').replace('Indiana', 'IN').replace('Iowa', 'IA')\n",
    "    df.state = df.state.replace('Kansas', 'KS').replace('Kentucky', 'KY').replace('Louisiana', 'LA')\n",
    "    df.state = df.state.replace('Maine', 'ME').replace('Maryland', 'MD').replace('Massachusetts', 'MA')\n",
    "    df.state = df.state.replace('Michigan', 'MI').replace('Minnesota', 'MN').replace('Mississippi', 'MS')\n",
    "    df.state = df.state.replace('Missouri', 'MO').replace('Montana', 'MT').replace('Nebraska', 'NE')\n",
    "    df.state = df.state.replace('Nevada', 'NV').replace('New Hampshire','NH').replace('New Jersey', 'NJ')\n",
    "    df.state = df.state.replace('New Mexico', 'NM').replace('New York', 'NY').replace('North Carolina','NC')\n",
    "    df.state = df.state.replace('North Dakota', 'ND').replace('Ohio', 'OH').replace('Oklahoma', 'OK')\n",
    "    df.state = df.state.replace('Oregon', 'OR').replace('Pennsylvania', 'PA').replace('Rhode Island', 'RI')\n",
    "    df.state = df.state.replace('South Carolina', 'SC').replace('South Dakota', 'SD').replace('Tennessee', 'TN')\n",
    "    df.state = df.state.replace('Texas', 'TX').replace('Utah', 'UT').replace('Vermont', 'VT')\n",
    "    df.state = df.state.replace('Virginia', 'VA').replace('Washington', 'WA').replace('West Virginia', 'WV')\n",
    "    df.state = df.state.replace('Wisconsin', 'WI').replace('Wyoming', 'WY')\n",
    "    return df"
   ]
  },
  {
   "cell_type": "code",
   "execution_count": 169,
   "metadata": {
    "collapsed": true
   },
   "outputs": [],
   "source": [
    "ur_2004 = replace(ur_2004)\n",
    "\n",
    "ur_2004.county = ur_2004.county + ', ' + ur_2004.state"
   ]
  },
  {
   "cell_type": "code",
   "execution_count": 176,
   "metadata": {},
   "outputs": [],
   "source": [
    "ur_2004.drop('state', axis=1, inplace=True)"
   ]
  },
  {
   "cell_type": "code",
   "execution_count": 172,
   "metadata": {
    "collapsed": true
   },
   "outputs": [],
   "source": [
    "ur_2008 = replace(ur_2008)\n",
    "\n",
    "ur_2008.county = ur_2008.county + ', ' + ur_2008.state"
   ]
  },
  {
   "cell_type": "code",
   "execution_count": 177,
   "metadata": {
    "collapsed": true
   },
   "outputs": [],
   "source": [
    "ur_2008.drop('state', axis=1, inplace=True)"
   ]
  },
  {
   "cell_type": "code",
   "execution_count": 173,
   "metadata": {
    "collapsed": true
   },
   "outputs": [],
   "source": [
    "ur_2012 = replace(ur_2012)\n",
    "\n",
    "ur_2012.county = ur_2012.county + ', ' + ur_2012.state"
   ]
  },
  {
   "cell_type": "code",
   "execution_count": 178,
   "metadata": {
    "collapsed": true
   },
   "outputs": [],
   "source": [
    "ur_2012.drop('state', axis=1, inplace=True)"
   ]
  },
  {
   "cell_type": "code",
   "execution_count": 174,
   "metadata": {
    "collapsed": true
   },
   "outputs": [],
   "source": [
    "ur_2016 = replace(ur_2016)\n",
    "\n",
    "ur_2016.county = ur_2016.county + ', ' + ur_2016.state"
   ]
  },
  {
   "cell_type": "code",
   "execution_count": 179,
   "metadata": {
    "collapsed": true
   },
   "outputs": [],
   "source": [
    "ur_2016.drop('state', axis=1, inplace=True)"
   ]
  },
  {
   "cell_type": "code",
   "execution_count": 180,
   "metadata": {
    "collapsed": true
   },
   "outputs": [],
   "source": [
    "ur_2004.to_csv('./ur_2004')"
   ]
  },
  {
   "cell_type": "code",
   "execution_count": 181,
   "metadata": {
    "collapsed": true
   },
   "outputs": [],
   "source": [
    "ur_2008.to_csv('./ur_2008')"
   ]
  },
  {
   "cell_type": "code",
   "execution_count": 182,
   "metadata": {
    "collapsed": true
   },
   "outputs": [],
   "source": [
    "ur_2012.to_csv('./ur_2012')"
   ]
  },
  {
   "cell_type": "code",
   "execution_count": 183,
   "metadata": {
    "collapsed": true
   },
   "outputs": [],
   "source": [
    "ur_2016.to_csv('./ur_2016')"
   ]
  },
  {
   "cell_type": "code",
   "execution_count": null,
   "metadata": {
    "collapsed": true
   },
   "outputs": [],
   "source": []
  }
 ],
 "metadata": {
  "kernelspec": {
   "display_name": "Python 3",
   "language": "python",
   "name": "python3"
  },
  "language_info": {
   "codemirror_mode": {
    "name": "ipython",
    "version": 3
   },
   "file_extension": ".py",
   "mimetype": "text/x-python",
   "name": "python",
   "nbconvert_exporter": "python",
   "pygments_lexer": "ipython3",
   "version": "3.6.1"
  }
 },
 "nbformat": 4,
 "nbformat_minor": 2
}
